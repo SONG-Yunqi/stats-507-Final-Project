{
 "cells": [
  {
   "cell_type": "markdown",
   "metadata": {
    "id": "F-GkZmLXCy0f"
   },
   "source": [
    "## Preliminary Work & Data Overview"
   ]
  },
  {
   "cell_type": "markdown",
   "metadata": {
    "id": "Gv2VDKhyr8Yh"
   },
   "source": [
    "This file is about a sentiment classification task with dataset 'amarzon-polarity'. Main content of this file is about code that builds deep learning models with pytorch. We first install some modules. Note that to use the module 'gensim', you may have to downgrade numpy and scipy. After install the modules, you may have to **restart**. Otherwise, you may encounter ImportError."
   ]
  },
  {
   "cell_type": "code",
   "execution_count": null,
   "metadata": {
    "colab": {
     "base_uri": "https://localhost:8080/"
    },
    "executionInfo": {
     "elapsed": 20370,
     "status": "ok",
     "timestamp": 1744381394491,
     "user": {
      "displayName": "YUNQI SONG",
      "userId": "11479665574525118572"
     },
     "user_tz": 240
    },
    "id": "FzMtbrM9PoRS",
    "outputId": "187c5557-0a47-4a9b-aef6-8e8fd9825227"
   },
   "outputs": [],
   "source": [
    "!pip install scipy==1.12.0\n",
    "!pip install gensim==4.3.2\n",
    "!pip install datasets"
   ]
  },
  {
   "cell_type": "code",
   "execution_count": null,
   "metadata": {},
   "outputs": [],
   "source": [
    "!pip3 install torch torchvision torchaudio --index-url https://download.pytorch.org/whl/cu118"
   ]
  },
  {
   "cell_type": "code",
   "execution_count": null,
   "metadata": {},
   "outputs": [],
   "source": [
    "!pip3 install transformers"
   ]
  },
  {
   "cell_type": "code",
   "execution_count": null,
   "metadata": {},
   "outputs": [],
   "source": [
    "!pip install hf_xet"
   ]
  },
  {
   "cell_type": "markdown",
   "metadata": {},
   "source": [
    "Import modules."
   ]
  },
  {
   "cell_type": "code",
   "execution_count": 1,
   "metadata": {
    "executionInfo": {
     "elapsed": 6448,
     "status": "ok",
     "timestamp": 1744381475287,
     "user": {
      "displayName": "YUNQI SONG",
      "userId": "11479665574525118572"
     },
     "user_tz": 240
    },
    "id": "IDp1jvF7L8du"
   },
   "outputs": [],
   "source": [
    "# import modules\n",
    "import numpy as np\n",
    "import pandas as pd\n",
    "import sklearn\n",
    "import matplotlib.pyplot as plt\n",
    "import datasets\n",
    "from sklearn.model_selection import train_test_split\n",
    "from sklearn.feature_extraction.text import TfidfVectorizer, CountVectorizer\n",
    "from sklearn.svm import LinearSVC\n",
    "from sklearn.pipeline import Pipeline\n",
    "from sklearn.metrics import accuracy_score, classification_report, f1_score, confusion_matrix, RocCurveDisplay,roc_curve, roc_auc_score\n",
    "from sklearn.model_selection import GridSearchCV\n",
    "from sklearn.calibration import CalibratedClassifierCV\n",
    "import torch\n",
    "import torch.nn as nn\n",
    "import torch.optim as optim\n",
    "from torch.utils.data import Dataset, DataLoader\n",
    "from huggingface_hub import hf_hub_download\n",
    "from transformers import BertTokenizer, BertModel\n",
    "from gensim.models import KeyedVectors\n",
    "from gensim.utils import simple_preprocess\n",
    "from tqdm import tqdm\n",
    "import pickle\n",
    "import hf_xet"
   ]
  },
  {
   "cell_type": "markdown",
   "metadata": {
    "id": "LNxCXiyUuofn"
   },
   "source": [
    "The module 'datasets' can load datasets from Hugging Face. Here we load the dataset 'amazon_polarity'. It contains a training and a test set."
   ]
  },
  {
   "cell_type": "code",
   "execution_count": 3,
   "metadata": {
    "colab": {
     "base_uri": "https://localhost:8080/",
     "height": 397,
     "referenced_widgets": [
      "aa2b307e072d435e8c910a51cd695354",
      "a18f13d70c14408499ca753948f56a40",
      "2ecf20b9f06048f387ed16d0b38f77ac",
      "16200ee3e76042edb42b031ec238dbca",
      "643a204bb82b4da0975fb8550ccd1ac3",
      "59c02f9b11334f7196b2c6f1b914497f",
      "91de251387be4b8ab28bca454af072ab",
      "47e3c1a7e3c24232b0eb0755c53fc5e8",
      "7cb88ea6707841aeb8274d4611692b7a",
      "3d57843302174bfa9d623b6e7d0226f4",
      "b744735f167744a28a042d924dcad73f",
      "8d842bd5b6bf4fc48ca83e0c92fca98d",
      "672a6421e05443bdaa22b083da9704e9",
      "bacac9b1964d4caf824bc03d7f519a1c",
      "cf5f48b9de1b43739029960b7c18aadb",
      "ea442e4c980c48f38d74fea68b1ca3d4",
      "1d79713026f64b9082f15fe26e9f7855",
      "5942db3c5dac438f939458730d4ee96c",
      "564b0435aba847bf8dc03f86e08216ba",
      "2a432e470a32418d8d3d223751ddd489",
      "7a5e7040da4846f6989936eebf1e8af6",
      "22bbec871dda4b4883e18b89c1ade997",
      "72ae196d684d48be941be8d3bc33c108",
      "a23d8fcfb09d4bee9969a93d81b2dc9b",
      "73bba67b749b4e9caac70263c1b36667",
      "3ed70a71b19d4dcbaaec4837b8734e5c",
      "6ea925e0fc274b34b6db1eed6bf87877",
      "8c0ffd5aed6048f6ae5917d5d729e942",
      "4ce8e3f912a542b092737e43d5c3b235",
      "1e95e1fafaf5475fbffb3b3de89d4ee5",
      "09ef2343e15f4f8ba35371be6bf0356f",
      "3d28823a88804461b88d20c4a71f6f16",
      "f65a84702b3c40e59b71e40a5e251a4e",
      "6a39c65bce0e47efa93c461028b4c2ce",
      "21c9b70a9c0240cea4e8e3248db3f6b8",
      "fdbb241b88af45a1bda1e573bd5009c6",
      "ff8f2d77476c4f1ea96c7f308f87f17e",
      "497566313eb34ef4b959cc3def9ddf1a",
      "e7e0b1c55b374660a2796105d6aec9a1",
      "c4d3487c9363420bb1afe13e4ffe4200",
      "5cfc8f231ecc42e5bde4781d6233339c",
      "3bee3da2ffda467287efa6909b3117ac",
      "5204db9485ac4dcf8c165c9e50953926",
      "d94369c497c7417b88db185aa03deb54",
      "c55d392b266742189d46592e133c020e",
      "a63786a2a37847aaa78495f268cc67f4",
      "3fb7855449e242c49605542be9b69f69",
      "b8d86da5ba85410f91038672a5ba9815",
      "840c9b61aea64f01b0e213eb78e4b2b7",
      "1f9595e0b9b74855b7fd15f56c6a1387",
      "4883ae50cb7c45278b62b04d5351abaf",
      "5e7913281f1d40f6b611ea711800fd11",
      "e805cf63ebc347dc8228e30f745da284",
      "9d48ced947634f1a87038c0cc76c8a89",
      "25a49f8615344865a29e9f8a7fd8035f",
      "2504296d4b6442babebb95d6168f25d9",
      "130207d2bbe647769ee4fc19e12236b1",
      "9b8f0450f04f4578af796545990d1544",
      "13e4df179b2e4bd2abe74e368902646c",
      "06cb007159754b6a93b331203feaf986",
      "c25503a9fb104b9e900e68c3ef61e454",
      "23a4b271461b43f3abd2c171444fd57e",
      "1386868fe19a4932bdabac99c393b380",
      "87d88915498f44008af2ad5c2e442b20",
      "48ce51d0b3f34916be1625e27993e7b5",
      "b4c9857a2a6b48318875e302eb79aa04",
      "259c5bf2b5564bfea6ceb1bb9501cef1",
      "0160568bce3348ca9e327f58792e7341",
      "b4e6deb854fc430cb60a41284af0a14b",
      "de0fff26d2ff43ffb2d38e8285bc8294",
      "76613580a7f24d7b96dc28cc2bb345a0",
      "bf0f0754977e49f89eb5008751dc1089",
      "1ad60b70c274475e8e9766df0a113bf5",
      "ad780ab50d1a4e44b153987a54108f57",
      "85829958f8ec48d6bdc9f826c4eef1d7",
      "aca0c49e71ce41b6a99bda8aef882912",
      "0dcf51cd7f99496bb963f3cde4b40554",
      "7cccf2954a5b4f79a5a28e6589225180",
      "8f4473815b5e489db99c6b8cbb5b844f",
      "7878c39129cc4b099dfa3d8bce143ffa",
      "0aa0e908250749bb93c3d935c414a06b",
      "08baf6e0b9454375b3c1b4da07b9e814",
      "9694ec5b58384d219910bc44fdaa0176",
      "74134eec82624622b2917432f9324c0c",
      "ed3c1db902d24315bedacf0ef19905b2",
      "3c77f2578ab1465989d81f911d5ce921",
      "db8b6adc72ea4fcbb08563118e37ffbc",
      "5698cd3d266d4108a5f5f21fe4cbbdbc"
     ]
    },
    "executionInfo": {
     "elapsed": 16989,
     "status": "ok",
     "timestamp": 1744381492284,
     "user": {
      "displayName": "YUNQI SONG",
      "userId": "11479665574525118572"
     },
     "user_tz": 240
    },
    "id": "czAFRBCVL8dw",
    "outputId": "82773219-0e17-43f9-ee37-b664ebf93054"
   },
   "outputs": [],
   "source": [
    "# get the data\n",
    "train = datasets.load_dataset('fancyzhx/amazon_polarity',split='train')\n",
    "test  = datasets.load_dataset('fancyzhx/amazon_polarity',split='test')"
   ]
  },
  {
   "cell_type": "code",
   "execution_count": 4,
   "metadata": {
    "executionInfo": {
     "elapsed": 173,
     "status": "ok",
     "timestamp": 1744381499026,
     "user": {
      "displayName": "YUNQI SONG",
      "userId": "11479665574525118572"
     },
     "user_tz": 240
    },
    "id": "38lRqyT8L8dw"
   },
   "outputs": [],
   "source": [
    "X_train, y_train = train['content'], train['label']\n",
    "X_test, y_test = test['content'], test['label']"
   ]
  },
  {
   "cell_type": "markdown",
   "metadata": {
    "id": "wgy5QmMowsVu"
   },
   "source": [
    "We see the size of the sets."
   ]
  },
  {
   "cell_type": "code",
   "execution_count": 6,
   "metadata": {
    "colab": {
     "base_uri": "https://localhost:8080/"
    },
    "executionInfo": {
     "elapsed": 4,
     "status": "ok",
     "timestamp": 1744381499031,
     "user": {
      "displayName": "YUNQI SONG",
      "userId": "11479665574525118572"
     },
     "user_tz": 240
    },
    "id": "A0xeLoZyL8dw",
    "outputId": "fec16c8e-59a0-4a20-b813-19e7cf357e6e"
   },
   "outputs": [
    {
     "data": {
      "text/plain": [
       "(3600000, 400000)"
      ]
     },
     "execution_count": 6,
     "metadata": {},
     "output_type": "execute_result"
    }
   ],
   "source": [
    "len(y_train), len(y_test)"
   ]
  },
  {
   "cell_type": "markdown",
   "metadata": {
    "id": "AlQDgazbwxH8"
   },
   "source": [
    "Due to the limitation of computing resource, we just use a subset of the whole dataset.  We randomly get 500,000 positive reviews and 500,000 negative reviews from the training data, and 100,000 reviews from the test set."
   ]
  },
  {
   "cell_type": "code",
   "execution_count": 8,
   "metadata": {
    "colab": {
     "base_uri": "https://localhost:8080/"
    },
    "executionInfo": {
     "elapsed": 2145,
     "status": "ok",
     "timestamp": 1744381501228,
     "user": {
      "displayName": "YUNQI SONG",
      "userId": "11479665574525118572"
     },
     "user_tz": 240
    },
    "id": "FT7MP1cPL8dx",
    "outputId": "27753844-b0ba-422e-f1d6-26de2a9831b8"
   },
   "outputs": [
    {
     "data": {
      "text/plain": [
       "((1000000, 2), (100000, 2))"
      ]
     },
     "execution_count": 8,
     "metadata": {},
     "output_type": "execute_result"
    }
   ],
   "source": [
    "# get a subset of the whole data\n",
    "train = pd.DataFrame({'X':X_train,'y':y_train})\n",
    "test = pd.DataFrame({'X':X_test,'y':y_test})\n",
    "train = pd.concat([train[train['y'] == 1].sample(n=500000,random_state=507),train[train['y'] == 0].sample(n=500000,random_state=507)])\n",
    "test = test.sample(n=100000,random_state=507)\n",
    "train.shape,test.shape"
   ]
  },
  {
   "cell_type": "code",
   "execution_count": 9,
   "metadata": {
    "executionInfo": {
     "elapsed": 23,
     "status": "ok",
     "timestamp": 1744381501252,
     "user": {
      "displayName": "YUNQI SONG",
      "userId": "11479665574525118572"
     },
     "user_tz": 240
    },
    "id": "rPyc1NdTL8dx"
   },
   "outputs": [],
   "source": [
    "X_train, y_train = train['X'].values, train['y'].values\n",
    "X_test, y_test = test['X'].values, test['y'].values"
   ]
  },
  {
   "cell_type": "markdown",
   "metadata": {
    "id": "aQLxHJRHysiB"
   },
   "source": [
    "Print an example of the review."
   ]
  },
  {
   "cell_type": "code",
   "execution_count": 12,
   "metadata": {
    "colab": {
     "base_uri": "https://localhost:8080/"
    },
    "executionInfo": {
     "elapsed": 5,
     "status": "ok",
     "timestamp": 1744337955642,
     "user": {
      "displayName": "YUNQI SONG",
      "userId": "11479665574525118572"
     },
     "user_tz": 240
    },
    "id": "NvW_270lL8dx",
    "outputId": "63abd1f1-ca86-41ab-adfc-38a8d26caad0"
   },
   "outputs": [
    {
     "name": "stdout",
     "output_type": "stream",
     "text": [
      "A big part of the book is mostly Egyption history. He talks about the dating of the pyrimids was a fraud, which is very interesting. He gets into the Enoch subject for a while and much more. A Daniken fan will love this book\n"
     ]
    }
   ],
   "source": [
    "print(X_train[0])"
   ]
  },
  {
   "cell_type": "markdown",
   "metadata": {
    "id": "3ggYmMx3yCJ1"
   },
   "source": [
    "We check the size of vocabulary for the train data."
   ]
  },
  {
   "cell_type": "code",
   "execution_count": 15,
   "metadata": {
    "colab": {
     "base_uri": "https://localhost:8080/"
    },
    "executionInfo": {
     "elapsed": 46987,
     "status": "ok",
     "timestamp": 1744338002646,
     "user": {
      "displayName": "YUNQI SONG",
      "userId": "11479665574525118572"
     },
     "user_tz": 240
    },
    "id": "tR_RMtsdL8dx",
    "outputId": "c8c20914-ac5c-459e-a0eb-351dd9534f0a"
   },
   "outputs": [
    {
     "data": {
      "text/plain": [
       "426803"
      ]
     },
     "execution_count": 15,
     "metadata": {},
     "output_type": "execute_result"
    }
   ],
   "source": [
    "# check the size of vocabulary for the train data\n",
    "vectorizer = CountVectorizer()\n",
    "vectorizer.fit(X_train)\n",
    "len(vectorizer.vocabulary_)"
   ]
  },
  {
   "cell_type": "markdown",
   "metadata": {
    "id": "TQcA4BW5yMP-"
   },
   "source": [
    "We want to know how the length of the reviews in training set distributed. Below is the histogram of the lengths."
   ]
  },
  {
   "cell_type": "code",
   "execution_count": 17,
   "metadata": {
    "colab": {
     "base_uri": "https://localhost:8080/",
     "height": 472
    },
    "executionInfo": {
     "elapsed": 6344,
     "status": "ok",
     "timestamp": 1744338008989,
     "user": {
      "displayName": "YUNQI SONG",
      "userId": "11479665574525118572"
     },
     "user_tz": 240
    },
    "id": "XLGXzMUdmNND",
    "outputId": "aa87f88a-7a49-4cda-8e53-2d35679e9418"
   },
   "outputs": [
    {
     "data": {
      "image/png": "[encoded data removed]",
      "text/plain": [
       "<Figure size 640x480 with 1 Axes>"
      ]
     },
     "metadata": {},
     "output_type": "display_data"
    }
   ],
   "source": [
    "# get the distribution of the length of reviews in train data\n",
    "review_lengths = [len(review.split(' ')) for review in X_train]\n",
    "plt.hist(review_lengths,bins=200)\n",
    "plt.xlabel('Length of Reviews')\n",
    "plt.ylabel('Number of Reviews')\n",
    "plt.title('Distribution of Length of Reviews')\n",
    "plt.show()"
   ]
  },
  {
   "cell_type": "markdown",
   "metadata": {
    "id": "xgxfmKGFyhPv"
   },
   "source": [
    "Some statistics about the length."
   ]
  },
  {
   "cell_type": "code",
   "execution_count": 19,
   "metadata": {
    "colab": {
     "base_uri": "https://localhost:8080/",
     "height": 300
    },
    "executionInfo": {
     "elapsed": 208,
     "status": "ok",
     "timestamp": 1744338009198,
     "user": {
      "displayName": "YUNQI SONG",
      "userId": "11479665574525118572"
     },
     "user_tz": 240
    },
    "id": "N_GOQ4m_nSHO",
    "outputId": "76a8c1e4-5674-444a-da60-03c19126f56b"
   },
   "outputs": [
    {
     "data": {
      "text/html": [
       "<div>\n",
       "<style scoped>\n",
       "    .dataframe tbody tr th:only-of-type {\n",
       "        vertical-align: middle;\n",
       "    }\n",
       "\n",
       "    .dataframe tbody tr th {\n",
       "        vertical-align: top;\n",
       "    }\n",
       "\n",
       "    .dataframe thead th {\n",
       "        text-align: right;\n",
       "    }\n",
       "</style>\n",
       "<table border=\"1\" class=\"dataframe\">\n",
       "  <thead>\n",
       "    <tr style=\"text-align: right;\">\n",
       "      <th></th>\n",
       "      <th>0</th>\n",
       "    </tr>\n",
       "  </thead>\n",
       "  <tbody>\n",
       "    <tr>\n",
       "      <th>count</th>\n",
       "      <td>1000000.000000</td>\n",
       "    </tr>\n",
       "    <tr>\n",
       "      <th>mean</th>\n",
       "      <td>74.109013</td>\n",
       "    </tr>\n",
       "    <tr>\n",
       "      <th>std</th>\n",
       "      <td>42.271075</td>\n",
       "    </tr>\n",
       "    <tr>\n",
       "      <th>min</th>\n",
       "      <td>1.000000</td>\n",
       "    </tr>\n",
       "    <tr>\n",
       "      <th>25%</th>\n",
       "      <td>39.000000</td>\n",
       "    </tr>\n",
       "    <tr>\n",
       "      <th>50%</th>\n",
       "      <td>66.000000</td>\n",
       "    </tr>\n",
       "    <tr>\n",
       "      <th>75%</th>\n",
       "      <td>103.000000</td>\n",
       "    </tr>\n",
       "    <tr>\n",
       "      <th>max</th>\n",
       "      <td>214.000000</td>\n",
       "    </tr>\n",
       "  </tbody>\n",
       "</table>\n",
       "</div>"
      ],
      "text/plain": [
       "                    0\n",
       "count  1000000.000000\n",
       "mean        74.109013\n",
       "std         42.271075\n",
       "min          1.000000\n",
       "25%         39.000000\n",
       "50%         66.000000\n",
       "75%        103.000000\n",
       "max        214.000000"
      ]
     },
     "execution_count": 19,
     "metadata": {},
     "output_type": "execute_result"
    }
   ],
   "source": [
    "# some statistics about the length\n",
    "pd.DataFrame(review_lengths).describe()"
   ]
  },
  {
   "cell_type": "markdown",
   "metadata": {
    "id": "KfTfKy0IyzNK"
   },
   "source": [
    "For hyperperameter setting, we split the training set to a training and a validation set. The size ratio is 8:2."
   ]
  },
  {
   "cell_type": "code",
   "execution_count": 19,
   "metadata": {
    "executionInfo": {
     "elapsed": 116,
     "status": "ok",
     "timestamp": 1744382440308,
     "user": {
      "displayName": "YUNQI SONG",
      "userId": "11479665574525118572"
     },
     "user_tz": 240
    },
    "id": "g42caWGhL8dy"
   },
   "outputs": [],
   "source": [
    "X_train, X_val, y_train, y_val = train_test_split(X_train,y_train,test_size=0.2,random_state=507)"
   ]
  },
  {
   "cell_type": "markdown",
   "metadata": {
    "id": "FG5AW02oCrsb"
   },
   "source": [
    "## Baseline model"
   ]
  },
  {
   "cell_type": "markdown",
   "metadata": {
    "id": "Hsrw_GJCzOVk"
   },
   "source": [
    "Below, we implement our baseline model. It is built as a pipeline with the module 'sklearn'. First, it will transform reviews into TF-IDF features. This feature can evaluate how important a word is to a document within a collection (or corpus), while reducing the weight of common words that appear across many documents. Second, the features will be used to train a linear SVM classifier. After trying some groups of hyperparameters, we set hyperparameters as below.\n",
    "\n",
    "For the TF-IDF vectorizer, we only consider the top 20,000 n-grams with the highest frequency, and we only consider 1-gram and 2-grams. For the linear SCV, we set C=0.1. These hyperparameter settings have been optimized during validation. Unless otherwise specified, the hyperparameter settings for the models below are all optimized during validation."
   ]
  },
  {
   "cell_type": "code",
   "execution_count": null,
   "metadata": {
    "colab": {
     "base_uri": "https://localhost:8080/",
     "height": 155
    },
    "executionInfo": {
     "elapsed": 152122,
     "status": "ok",
     "timestamp": 1744315703443,
     "user": {
      "displayName": "YUNQI SONG",
      "userId": "11479665574525118572"
     },
     "user_tz": 240
    },
    "id": "4NwXV509L8dy",
    "outputId": "692f7a16-e17f-4b0b-a35a-4e5dc5ff5be9"
   },
   "outputs": [],
   "source": [
    "# baseline model: TF-IDF feature and linear SVM classifier\n",
    "model1 = Pipeline([\n",
    "    ('tfidf', TfidfVectorizer(max_features=20000,ngram_range=(1,2))),\n",
    "    ('svm', LinearSVC(C=0.1,dual=False))])\n",
    "\n",
    "model1.fit(X_train,y_train)"
   ]
  },
  {
   "cell_type": "markdown",
   "metadata": {},
   "source": [
    "Metrics of validation set."
   ]
  },
  {
   "cell_type": "code",
   "execution_count": 35,
   "metadata": {
    "colab": {
     "base_uri": "https://localhost:8080/"
    },
    "executionInfo": {
     "elapsed": 20695,
     "status": "ok",
     "timestamp": 1744315724150,
     "user": {
      "displayName": "YUNQI SONG",
      "userId": "11479665574525118572"
     },
     "user_tz": 240
    },
    "id": "w2DiZfyyL8dy",
    "outputId": "d6b263d9-da97-487d-a674-49476ded1054"
   },
   "outputs": [
    {
     "name": "stdout",
     "output_type": "stream",
     "text": [
      "              precision    recall  f1-score   support\n",
      "\n",
      "           0       0.91      0.91      0.91    100495\n",
      "           1       0.91      0.91      0.91     99505\n",
      "\n",
      "    accuracy                           0.91    200000\n",
      "   macro avg       0.91      0.91      0.91    200000\n",
      "weighted avg       0.91      0.91      0.91    200000\n",
      "\n",
      "0.911675\n"
     ]
    }
   ],
   "source": [
    "# select the best hyperparameter setting using the validation set\n",
    "pre_y_val1 = model1.predict(X_val)\n",
    "print(classification_report(y_val,pre_y_val1))\n",
    "print(accuracy_score(y_val,pre_y_val1))"
   ]
  },
  {
   "cell_type": "markdown",
   "metadata": {},
   "source": [
    "Confusion matrix of validation set."
   ]
  },
  {
   "cell_type": "code",
   "execution_count": 36,
   "metadata": {
    "colab": {
     "base_uri": "https://localhost:8080/"
    },
    "executionInfo": {
     "elapsed": 15,
     "status": "ok",
     "timestamp": 1744315724177,
     "user": {
      "displayName": "YUNQI SONG",
      "userId": "11479665574525118572"
     },
     "user_tz": 240
    },
    "id": "EPTZqVaBouA5",
    "outputId": "327a65a3-e242-47dd-99fb-da60cb1451a7"
   },
   "outputs": [
    {
     "data": {
      "text/plain": [
       "array([[91583,  8912],\n",
       "       [ 8753, 90752]], dtype=int64)"
      ]
     },
     "execution_count": 36,
     "metadata": {},
     "output_type": "execute_result"
    }
   ],
   "source": [
    "confusion_matrix(y_val,pre_y_val1)"
   ]
  },
  {
   "cell_type": "markdown",
   "metadata": {
    "id": "ha_ynKknA1vG"
   },
   "source": [
    "Use the trained model to predict test set."
   ]
  },
  {
   "cell_type": "code",
   "execution_count": 38,
   "metadata": {
    "colab": {
     "base_uri": "https://localhost:8080/"
    },
    "executionInfo": {
     "elapsed": 10367,
     "status": "ok",
     "timestamp": 1744315734554,
     "user": {
      "displayName": "YUNQI SONG",
      "userId": "11479665574525118572"
     },
     "user_tz": 240
    },
    "id": "p4Etji5k-zn3",
    "outputId": "929a3262-9180-45cb-c4b5-c48f82fcb63e"
   },
   "outputs": [
    {
     "name": "stdout",
     "output_type": "stream",
     "text": [
      "              precision    recall  f1-score   support\n",
      "\n",
      "           0       0.91      0.91      0.91     50299\n",
      "           1       0.91      0.91      0.91     49701\n",
      "\n",
      "    accuracy                           0.91    100000\n",
      "   macro avg       0.91      0.91      0.91    100000\n",
      "weighted avg       0.91      0.91      0.91    100000\n",
      "\n",
      "0.91131\n",
      "0.9109207235619657\n"
     ]
    }
   ],
   "source": [
    "pre_y_test1 = model1.predict(X_test)\n",
    "print(classification_report(y_test,pre_y_test1))\n",
    "print(accuracy_score(y_test,pre_y_test1))\n",
    "print(f1_score(y_test,pre_y_test1))"
   ]
  },
  {
   "cell_type": "code",
   "execution_count": 39,
   "metadata": {
    "colab": {
     "base_uri": "https://localhost:8080/"
    },
    "executionInfo": {
     "elapsed": 42,
     "status": "ok",
     "timestamp": 1744315734597,
     "user": {
      "displayName": "YUNQI SONG",
      "userId": "11479665574525118572"
     },
     "user_tz": 240
    },
    "id": "VaR6mZL2o2oP",
    "outputId": "102a5081-61a8-4087-a701-a8cb3dd311a4"
   },
   "outputs": [
    {
     "data": {
      "text/plain": [
       "array([[45784,  4515],\n",
       "       [ 4354, 45347]], dtype=int64)"
      ]
     },
     "execution_count": 39,
     "metadata": {},
     "output_type": "execute_result"
    }
   ],
   "source": [
    "confusion_matrix(y_test,pre_y_test1)"
   ]
  },
  {
   "cell_type": "markdown",
   "metadata": {},
   "source": [
    "Draw the ROC curve and compute the AUC."
   ]
  },
  {
   "cell_type": "code",
   "execution_count": 113,
   "metadata": {},
   "outputs": [
    {
     "data": {
      "image/png": "[encoded data removed]",
      "text/plain": [
       "<Figure size 640x480 with 1 Axes>"
      ]
     },
     "metadata": {},
     "output_type": "display_data"
    }
   ],
   "source": [
    "y_score1 = model1.decision_function(X_test)\n",
    "\n",
    "fpr1, tpr1, _ = roc_curve(y_test, y_score1)\n",
    "auc_score1 = roc_auc_score(y_test, y_score1)\n",
    "\n",
    "plt.figure()\n",
    "plt.plot(fpr1, tpr1, label=f'ROC Curve (AUC = {auc_score1:.4f})')\n",
    "plt.plot([0, 1], [0, 1], 'k--')\n",
    "plt.xlabel('False Positive Rate')\n",
    "plt.ylabel('True Positive Rate')\n",
    "plt.title('ROC Curve using LinearSVC')\n",
    "plt.legend(loc='lower right')\n",
    "plt.grid(True)\n",
    "plt.show()\n"
   ]
  },
  {
   "cell_type": "markdown",
   "metadata": {
    "id": "haY9n-qRDHqX"
   },
   "source": [
    "## GLoVe+LSTM"
   ]
  },
  {
   "cell_type": "markdown",
   "metadata": {
    "id": "OWe4Ut8xDPMu"
   },
   "source": [
    "We now implement our deep learning model. The first model is a Glove+LSTM model. We first use a pre-trained and fine-tuned Glove model to transform words to vectors and then use word vectors to train a LSTM model. The pre-trained model is downloaded from Hugging Face. Then we will build a LSTM model with pytorch. This pre-trained model can convert a word to a 300-dimensional vector. The size of the vocabulary of the pre-trained model is 400,000."
   ]
  },
  {
   "cell_type": "code",
   "execution_count": 65,
   "metadata": {
    "colab": {
     "base_uri": "https://localhost:8080/",
     "height": 81,
     "referenced_widgets": [
      "876b12288a864a14a7ce948fbb5ccd71",
      "0e2b7fedb261425fa9db65907590afe5",
      "f1050f4e7f75498e8fe2d9c6ebb74bc6",
      "acbc7890efeb49cb8dd046f4ea3f5201",
      "afbab47a923446718bcb7b0ae3643fdc",
      "3337d088c6ef4d1a973775d345f65272",
      "a59d2ec37bc74ea4a545d17fa35f0159",
      "149b924c27eb415dbdd235b4e21a9793",
      "52cbb40c9d8e4faa8348f4cea4e3a15d",
      "b39db12e28534ba3943aad23273b8afd",
      "251bea7a0829475ba75b24f33177b5cf",
      "f1d89733c7ae447a817f0a89e0a0df35",
      "6a42a44506364620bb8b383c940f2459",
      "5a4b304f011042f0b75d1d1861290b04",
      "b6bc3feb76724762973f26c2db795bbd",
      "5925f9e65b07416fbe5085af5a5e3f63",
      "e753f9c467594d459d19ea69c7bbd2f5",
      "d78cf71eac07466e8755ffb59e722d24",
      "3a7dc51851194c7a878e9063e23df74a",
      "9a42b455f1c64b89b6dec2c11387c2f4",
      "77a338e2c9bc41489f845b4bfa0a7019",
      "c0e9d03dc09d4b11bb2f03e3f15a264f"
     ]
    },
    "executionInfo": {
     "elapsed": 6723,
     "status": "ok",
     "timestamp": 1744381507976,
     "user": {
      "displayName": "YUNQI SONG",
      "userId": "11479665574525118572"
     },
     "user_tz": 240
    },
    "id": "ncxB4WKqDNh2",
    "outputId": "92c1ab43-e485-4775-f825-9e82292a5497"
   },
   "outputs": [],
   "source": [
    "# download the pre-trained model\n",
    "model_path = hf_hub_download(repo_id=\"fse/glove-wiki-gigaword-300\", filename=\"glove-wiki-gigaword-300.model\")\n",
    "vector_path = hf_hub_download(repo_id=\"fse/glove-wiki-gigaword-300\", filename=\"glove-wiki-gigaword-300.model.vectors.npy\")\n",
    "pre_trained_model = KeyedVectors.load(model_path, mmap='r')"
   ]
  },
  {
   "cell_type": "markdown",
   "metadata": {
    "executionInfo": {
     "elapsed": 227,
     "status": "error",
     "timestamp": 1743997058006,
     "user": {
      "displayName": "Yunqi Song",
      "userId": "06337137823843433593"
     },
     "user_tz": 240
    },
    "id": "vPM6TSAqFRgq",
    "outputId": "894ed008-ac93-4f72-b877-89d551428562"
   },
   "source": [
    "Construct the embedding matrix. If padding is needed, we use a zero vector to represent padding word. If there exists new word that is not in the pre-trained GloVe model, we use a randomly generated vector to represent it."
   ]
  },
  {
   "cell_type": "code",
   "execution_count": 67,
   "metadata": {
    "executionInfo": {
     "elapsed": 4521,
     "status": "ok",
     "timestamp": 1744381512497,
     "user": {
      "displayName": "YUNQI SONG",
      "userId": "11479665574525118572"
     },
     "user_tz": 240
    },
    "id": "vNeKEi8BXo0o"
   },
   "outputs": [],
   "source": [
    "wordtoidx = {\"<pad>\": 0, \"<unk>\": 1}\n",
    "vectors = [np.zeros(pre_trained_model.vector_size), np.random.normal(scale=0.6, size=pre_trained_model.vector_size)]\n",
    "\n",
    "for word in pre_trained_model.key_to_index:\n",
    "    wordtoidx[word] = len(wordtoidx)\n",
    "    vectors.append(pre_trained_model[word])\n",
    "\n",
    "embedding_matrix = torch.tensor(np.stack(vectors), dtype=torch.float)"
   ]
  },
  {
   "cell_type": "code",
   "execution_count": 47,
   "metadata": {
    "colab": {
     "base_uri": "https://localhost:8080/"
    },
    "executionInfo": {
     "elapsed": 5,
     "status": "ok",
     "timestamp": 1744381512608,
     "user": {
      "displayName": "YUNQI SONG",
      "userId": "11479665574525118572"
     },
     "user_tz": 240
    },
    "id": "ARMmJxKzPjBi",
    "outputId": "25a87645-8add-43cc-d458-b836c76336eb"
   },
   "outputs": [
    {
     "data": {
      "text/plain": [
       "torch.Size([400002, 300])"
      ]
     },
     "execution_count": 47,
     "metadata": {},
     "output_type": "execute_result"
    }
   ],
   "source": [
    "embedding_matrix.shape"
   ]
  },
  {
   "cell_type": "markdown",
   "metadata": {
    "id": "jqPhtVfuPjBi"
   },
   "source": [
    "We define a function that can encode the reviews. This function takes a review (str) as an input and outputs a list that contains the index of corresponding words in the review. What's more, this function applies padding or truncation to make sure that every review will has a fixed length. Here we set the length of any review should be no longer than 150."
   ]
  },
  {
   "cell_type": "code",
   "execution_count": 68,
   "metadata": {
    "executionInfo": {
     "elapsed": 1,
     "status": "ok",
     "timestamp": 1744381512609,
     "user": {
      "displayName": "YUNQI SONG",
      "userId": "11479665574525118572"
     },
     "user_tz": 240
    },
    "id": "vKeGjmbQPjBi"
   },
   "outputs": [],
   "source": [
    "def encode(text, max_len=150):\n",
    "    tokens = simple_preprocess(text)\n",
    "    ids = [wordtoidx.get(token, wordtoidx[\"<unk>\"]) for token in tokens]\n",
    "    return ids[:max_len] + [wordtoidx[\"<pad>\"]] * (max_len - len(ids))\n"
   ]
  },
  {
   "cell_type": "markdown",
   "metadata": {
    "id": "m-R8J58-PjBi"
   },
   "source": [
    "Construct torch Dataset and DataLoader."
   ]
  },
  {
   "cell_type": "code",
   "execution_count": 72,
   "metadata": {
    "executionInfo": {
     "elapsed": 119803,
     "status": "ok",
     "timestamp": 1744382567217,
     "user": {
      "displayName": "YUNQI SONG",
      "userId": "11479665574525118572"
     },
     "user_tz": 240
    },
    "id": "YrDd59ppPjBi"
   },
   "outputs": [],
   "source": [
    "class MyDataset(Dataset):\n",
    "    def __init__(self, texts, labels):\n",
    "        self.data = [torch.tensor(encode(text)) for text in texts]\n",
    "        self.labels = torch.tensor(labels, dtype=torch.float)\n",
    "\n",
    "    def __len__(self):\n",
    "        return len(self.data)\n",
    "\n",
    "    def __getitem__(self, idx):\n",
    "        return self.data[idx], self.labels[idx]\n",
    "\n",
    "train_dataset = MyDataset(X_train, y_train)\n",
    "val_dataset = MyDataset(X_val, y_val)\n",
    "test_dataset = MyDataset(X_test, y_test)\n",
    "train_loader = DataLoader(train_dataset, batch_size=256, shuffle=True)\n",
    "val_loader = DataLoader(val_dataset, batch_size=256)\n",
    "test_loader = DataLoader(test_dataset, batch_size=256)\n"
   ]
  },
  {
   "cell_type": "markdown",
   "metadata": {
    "id": "N7AiatX8PjBj"
   },
   "source": [
    "Define the LSTM model. This model first transforms text to word vectors based on the embedding matrix, then put the vectors into LSTM. This LSTM is a multi-layer and bidirectional one. Dropout technique is used to reduce overfitting. The LSTM output will go to a linear projection and a sigmoid activation. In the end, we will get results between 0 and 1.\n",
    "\n",
    "Here, our LSTM is set to be a bidirectional one with two hidden layers. The dimension of the hidden layers is 512. We will apply dropout between hidden layers and in the last LSTM output. The dropout rate is 0.2."
   ]
  },
  {
   "cell_type": "code",
   "execution_count": 73,
   "metadata": {
    "executionInfo": {
     "elapsed": 11,
     "status": "ok",
     "timestamp": 1744338642403,
     "user": {
      "displayName": "YUNQI SONG",
      "userId": "11479665574525118572"
     },
     "user_tz": 240
    },
    "id": "FaQLctbtPjBj"
   },
   "outputs": [],
   "source": [
    "class LSTMClassifier(nn.Module):\n",
    "    def __init__(self, embedding_matrix, hidden_dim=512, num_layers=2, bidirectional=True,dropout_rate=0.2):\n",
    "        super().__init__()\n",
    "        self.embedding = nn.Embedding.from_pretrained(embedding_matrix, freeze=False)\n",
    "        self.lstm = nn.LSTM(\n",
    "            input_size=embedding_matrix.size(1),\n",
    "            hidden_size=hidden_dim,\n",
    "            batch_first=True,\n",
    "            num_layers = num_layers,\n",
    "            bidirectional=bidirectional,\n",
    "            dropout = dropout_rate\n",
    "\n",
    "        )\n",
    "        self.dropout = nn.Dropout(dropout_rate)\n",
    "        self.fc = nn.Linear(hidden_dim * 2 if bidirectional else hidden_dim, 1)\n",
    "        self.sigmoid = nn.Sigmoid()\n",
    "\n",
    "    def forward(self, x):\n",
    "        embedded = self.embedding(x)\n",
    "        lstm_out, _ = self.lstm(embedded)\n",
    "        last_hidden = lstm_out[:, -1, :]\n",
    "        dropped = self.dropout(last_hidden)\n",
    "        return self.sigmoid(self.fc(dropped))"
   ]
  },
  {
   "cell_type": "markdown",
   "metadata": {
    "id": "930r8jWqPjBp"
   },
   "source": [
    "The function below can conduct training process. 'max_epoch' controls the epoch of the training process. To avoid overfitting, we also apply early stop. That is, whenever there exists a validation loss increasing, we will stop at that epoch."
   ]
  },
  {
   "cell_type": "code",
   "execution_count": 74,
   "metadata": {
    "executionInfo": {
     "elapsed": 1,
     "status": "ok",
     "timestamp": 1744382567418,
     "user": {
      "displayName": "YUNQI SONG",
      "userId": "11479665574525118572"
     },
     "user_tz": 240
    },
    "id": "fSNGW42gPjBp"
   },
   "outputs": [],
   "source": [
    "def training(model,train_loader,val_loader,optimizer,criterion,max_epoch=10,max_patience=1):\n",
    "    if max_patience!=0:\n",
    "      patience = 0\n",
    "      min_val_loss = float('inf')\n",
    "    for epoch in range(max_epoch):\n",
    "        model.train()\n",
    "        total_loss = 0\n",
    "        for x_batch, y_batch in tqdm(train_loader, desc=f\"Epoch {epoch+1}\"):\n",
    "            x_batch, y_batch = x_batch.to(device), y_batch.unsqueeze(1).to(device)\n",
    "            optimizer.zero_grad()\n",
    "            preds = model(x_batch)\n",
    "            loss = criterion(preds, y_batch)\n",
    "            loss.backward()\n",
    "            optimizer.step()\n",
    "            total_loss += loss.item()\n",
    "        avg_train_loss = total_loss / len(train_loader)\n",
    "\n",
    "        model.eval()\n",
    "        val_loss = 0\n",
    "        with torch.no_grad():\n",
    "            for x_val, y_val in val_loader:\n",
    "                x_val = x_val.to(device)\n",
    "                y_val = y_val.unsqueeze(1).to(device)\n",
    "\n",
    "                preds = model(x_val)\n",
    "                loss = criterion(preds, y_val)\n",
    "                val_loss += loss.item()\n",
    "        avg_val_loss = val_loss / len(val_loader)\n",
    "        if min_val_loss>avg_val_loss:\n",
    "          min_val_loss = avg_val_loss\n",
    "          patience = 0\n",
    "        else:\n",
    "          patience += 1\n",
    "        print(f\"Epoch {epoch+1} Avg Train Loss: {avg_train_loss:.4f} | Val Loss: {avg_val_loss:.4f}\")\n",
    "        if patience == max_patience:\n",
    "          print(f'Early stop at Epoch {epoch+1}')\n",
    "          break\n",
    "    return model"
   ]
  },
  {
   "cell_type": "markdown",
   "metadata": {
    "id": "tevmTLoMPjBp"
   },
   "source": [
    "Training process. The optimizer is the commonly-used Adam with learning rate 1e-4. The loss criterion is the cross-entropy loss. To accelerate our training, we run the code on a NAVIDIA 4090 GPU."
   ]
  },
  {
   "cell_type": "code",
   "execution_count": null,
   "metadata": {
    "colab": {
     "base_uri": "https://localhost:8080/"
    },
    "executionInfo": {
     "elapsed": 101,
     "status": "ok",
     "timestamp": 1744345745516,
     "user": {
      "displayName": "YUNQI SONG",
      "userId": "11479665574525118572"
     },
     "user_tz": 240
    },
    "id": "EBWfYx0GPjBp",
    "outputId": "a2c1caee-30c7-46a9-cf32-cfe80dc38ecb"
   },
   "outputs": [],
   "source": [
    "device = torch.device(\"cuda\" if torch.cuda.is_available() else \"cpu\")\n",
    "model = LSTMClassifier(embedding_matrix,hidden_dim=512,num_layers=2,bidirectional=True,dropout_rate=0.2).to(device)\n",
    "optimizer = optim.Adam(model.parameters(), lr=1e-4)\n",
    "criterion = nn.BCELoss()"
   ]
  },
  {
   "cell_type": "code",
   "execution_count": 55,
   "metadata": {
    "colab": {
     "base_uri": "https://localhost:8080/"
    },
    "executionInfo": {
     "elapsed": 1016729,
     "status": "ok",
     "timestamp": 1744346763874,
     "user": {
      "displayName": "YUNQI SONG",
      "userId": "11479665574525118572"
     },
     "user_tz": 240
    },
    "id": "KnF8oFN1PjBp",
    "outputId": "027de05a-3cc6-4e73-cd76-7b8d471fcde7"
   },
   "outputs": [
    {
     "name": "stderr",
     "output_type": "stream",
     "text": [
      "Epoch 1: 100%|██████████| 3125/3125 [02:38<00:00, 19.73it/s]\n"
     ]
    },
    {
     "name": "stdout",
     "output_type": "stream",
     "text": [
      "Epoch 1 Avg Train Loss: 0.4990 | Val Loss: 0.2897\n"
     ]
    },
    {
     "name": "stderr",
     "output_type": "stream",
     "text": [
      "Epoch 2: 100%|██████████| 3125/3125 [02:38<00:00, 19.71it/s]\n"
     ]
    },
    {
     "name": "stdout",
     "output_type": "stream",
     "text": [
      "Epoch 2 Avg Train Loss: 0.2499 | Val Loss: 0.2289\n"
     ]
    },
    {
     "name": "stderr",
     "output_type": "stream",
     "text": [
      "Epoch 3: 100%|██████████| 3125/3125 [02:38<00:00, 19.71it/s]\n"
     ]
    },
    {
     "name": "stdout",
     "output_type": "stream",
     "text": [
      "Epoch 3 Avg Train Loss: 0.2064 | Val Loss: 0.2039\n"
     ]
    },
    {
     "name": "stderr",
     "output_type": "stream",
     "text": [
      "Epoch 4: 100%|██████████| 3125/3125 [02:38<00:00, 19.71it/s]\n"
     ]
    },
    {
     "name": "stdout",
     "output_type": "stream",
     "text": [
      "Epoch 4 Avg Train Loss: 0.1834 | Val Loss: 0.1915\n"
     ]
    },
    {
     "name": "stderr",
     "output_type": "stream",
     "text": [
      "Epoch 5: 100%|██████████| 3125/3125 [02:38<00:00, 19.71it/s]\n"
     ]
    },
    {
     "name": "stdout",
     "output_type": "stream",
     "text": [
      "Epoch 5 Avg Train Loss: 0.1660 | Val Loss: 0.1911\n"
     ]
    },
    {
     "name": "stderr",
     "output_type": "stream",
     "text": [
      "Epoch 6: 100%|██████████| 3125/3125 [02:38<00:00, 19.71it/s]\n"
     ]
    },
    {
     "name": "stdout",
     "output_type": "stream",
     "text": [
      "Epoch 6 Avg Train Loss: 0.1516 | Val Loss: 0.1964\n",
      "Early stop at Epoch 6\n"
     ]
    }
   ],
   "source": [
    "model = training(model,train_loader,val_loader,optimizer,criterion,max_epoch=10,max_patience=1)"
   ]
  },
  {
   "cell_type": "markdown",
   "metadata": {
    "id": "Zb7K0kZrbPqS"
   },
   "source": [
    "The function below can return the predict probability as numpy array."
   ]
  },
  {
   "cell_type": "code",
   "execution_count": 75,
   "metadata": {
    "executionInfo": {
     "elapsed": 365,
     "status": "ok",
     "timestamp": 1744384121628,
     "user": {
      "displayName": "YUNQI SONG",
      "userId": "11479665574525118572"
     },
     "user_tz": 240
    },
    "id": "7V634K1iK5fu"
   },
   "outputs": [],
   "source": [
    "def predict(model,dataloader):\n",
    "    device = torch.device(\"cuda\" if torch.cuda.is_available() else \"cpu\")\n",
    "    model.eval()\n",
    "    outputs = []\n",
    "    with torch.no_grad():\n",
    "        for x,_ in dataloader:\n",
    "            x = x.to(device)\n",
    "            pre = model(x).squeeze()\n",
    "            outputs.append(pre)\n",
    "    outputs = torch.cat(outputs,dim=0)\n",
    "    return outputs.detach().cpu().numpy()"
   ]
  },
  {
   "cell_type": "code",
   "execution_count": 70,
   "metadata": {
    "executionInfo": {
     "elapsed": 10021,
     "status": "ok",
     "timestamp": 1744346839263,
     "user": {
      "displayName": "YUNQI SONG",
      "userId": "11479665574525118572"
     },
     "user_tz": 240
    },
    "id": "45G9fmt3PjBp"
   },
   "outputs": [],
   "source": [
    "pre_y_val2=predict(model2,val_loader)"
   ]
  },
  {
   "cell_type": "code",
   "execution_count": 77,
   "metadata": {
    "colab": {
     "base_uri": "https://localhost:8080/"
    },
    "executionInfo": {
     "elapsed": 22,
     "status": "ok",
     "timestamp": 1744346843579,
     "user": {
      "displayName": "YUNQI SONG",
      "userId": "11479665574525118572"
     },
     "user_tz": 240
    },
    "id": "mIcmVs22Y9ng",
    "outputId": "4b09dcc8-ce62-43ab-b63e-78ea788ecb4e"
   },
   "outputs": [
    {
     "name": "stdout",
     "output_type": "stream",
     "text": [
      "              precision    recall  f1-score   support\n",
      "\n",
      "           0       0.91      0.95      0.93    100495\n",
      "           1       0.95      0.90      0.92     99505\n",
      "\n",
      "    accuracy                           0.93    200000\n",
      "   macro avg       0.93      0.92      0.92    200000\n",
      "weighted avg       0.93      0.93      0.92    200000\n",
      "\n",
      "0.92504\n"
     ]
    }
   ],
   "source": [
    "print(classification_report(y_val,pre_y_val2>0.5))\n",
    "print(accuracy_score(y_val,pre_y_val2>0.5))"
   ]
  },
  {
   "cell_type": "code",
   "execution_count": 79,
   "metadata": {
    "colab": {
     "base_uri": "https://localhost:8080/"
    },
    "executionInfo": {
     "elapsed": 9,
     "status": "ok",
     "timestamp": 1744346845259,
     "user": {
      "displayName": "YUNQI SONG",
      "userId": "11479665574525118572"
     },
     "user_tz": 240
    },
    "id": "FNyq4-fX2A8y",
    "outputId": "d49c80b4-1b8c-4738-c2fa-f25bfc3001fc"
   },
   "outputs": [
    {
     "data": {
      "text/plain": [
       "array([[95391,  5104],\n",
       "       [ 9888, 89617]], dtype=int64)"
      ]
     },
     "execution_count": 79,
     "metadata": {},
     "output_type": "execute_result"
    }
   ],
   "source": [
    "confusion_matrix(y_val,pre_y_val2>0.5)"
   ]
  },
  {
   "cell_type": "code",
   "execution_count": 81,
   "metadata": {
    "executionInfo": {
     "elapsed": 14340,
     "status": "ok",
     "timestamp": 1744384157447,
     "user": {
      "displayName": "YUNQI SONG",
      "userId": "11479665574525118572"
     },
     "user_tz": 240
    },
    "id": "EP6LUZXFPjBp"
   },
   "outputs": [],
   "source": [
    "pre_y_test2 = predict(model2,test_loader)"
   ]
  },
  {
   "cell_type": "code",
   "execution_count": 83,
   "metadata": {
    "colab": {
     "base_uri": "https://localhost:8080/"
    },
    "executionInfo": {
     "elapsed": 5,
     "status": "ok",
     "timestamp": 1744346864769,
     "user": {
      "displayName": "YUNQI SONG",
      "userId": "11479665574525118572"
     },
     "user_tz": 240
    },
    "id": "gOPWngWdcLB0",
    "outputId": "aa1ff789-22b7-4b9c-b477-514dc7927700"
   },
   "outputs": [
    {
     "name": "stdout",
     "output_type": "stream",
     "text": [
      "              precision    recall  f1-score   support\n",
      "\n",
      "           0       0.91      0.95      0.93     50299\n",
      "           1       0.95      0.90      0.92     49701\n",
      "\n",
      "    accuracy                           0.93    100000\n",
      "   macro avg       0.93      0.93      0.93    100000\n",
      "weighted avg       0.93      0.93      0.93    100000\n",
      "\n",
      "0.92668\n"
     ]
    }
   ],
   "source": [
    "print(classification_report(y_test,pre_y_test2>0.5))\n",
    "print(accuracy_score(y_test,pre_y_test2>0.5))"
   ]
  },
  {
   "cell_type": "code",
   "execution_count": 62,
   "metadata": {
    "colab": {
     "base_uri": "https://localhost:8080/"
    },
    "executionInfo": {
     "elapsed": 3,
     "status": "ok",
     "timestamp": 1744346864773,
     "user": {
      "displayName": "YUNQI SONG",
      "userId": "11479665574525118572"
     },
     "user_tz": 240
    },
    "id": "hyoYIHukEfre",
    "outputId": "5894dae5-ef37-4ac0-8d44-4e172fdf8b9c"
   },
   "outputs": [
    {
     "data": {
      "text/plain": [
       "array([[47810,  2489],\n",
       "       [ 4843, 44858]])"
      ]
     },
     "execution_count": 62,
     "metadata": {},
     "output_type": "execute_result"
    }
   ],
   "source": [
    "confusion_matrix(y_test,pre_y_test1>0.5)"
   ]
  },
  {
   "cell_type": "markdown",
   "metadata": {},
   "source": [
    "Draw the ROC curve and compute the AUC."
   ]
  },
  {
   "cell_type": "code",
   "execution_count": 174,
   "metadata": {},
   "outputs": [
    {
     "data": {
      "image/png": "[encoded data removed]",
      "text/plain": [
       "<Figure size 640x480 with 1 Axes>"
      ]
     },
     "metadata": {},
     "output_type": "display_data"
    }
   ],
   "source": [
    "fpr2, tpr2, _ = roc_curve(y_test, pre_y_test2)\n",
    "auc_score2 = roc_auc_score(y_test, pre_y_test2)\n",
    "\n",
    "plt.figure()\n",
    "plt.plot(fpr2, tpr2, label=f'ROC Curve (AUC = {auc_score2:.4f})')\n",
    "plt.plot([0, 1], [0, 1], 'k--')\n",
    "plt.xlabel('False Positive Rate')\n",
    "plt.ylabel('True Positive Rate')\n",
    "plt.title('ROC Curve using LSTM')\n",
    "plt.legend(loc='lower right')\n",
    "plt.grid(True)\n",
    "plt.show()"
   ]
  },
  {
   "cell_type": "markdown",
   "metadata": {
    "id": "CC4_iLzXpC8K"
   },
   "source": [
    "## GLoVe+TextCNN"
   ]
  },
  {
   "cell_type": "markdown",
   "metadata": {
    "id": "N7-g4JVCpRzi"
   },
   "source": [
    "The second model is the GLoVe+TextCNN model. We still use the GLoVe pre-trained model as word embedding model. However, now we use TextCNN model as the classifier. 'filter_sizes' is a list that contains the sizes of the convolution kernels. 'num_filters' is the number of kernels for each size. We use dropout to control overfitting. During the convolution process, we choose ReLU as the activation function and use max pooling. The output of CNN will then go to a linear projection and a sigmoid activation. In the end, we will get results between 0 and 1.\n",
    "\n",
    "Here, we choose the filter sizes to be 3,4,5, each size with 200 filters. We apply dropout on pooled convolution outputs with rate=0.5 to eliminate overfitting."
   ]
  },
  {
   "cell_type": "code",
   "execution_count": 57,
   "metadata": {
    "executionInfo": {
     "elapsed": 4,
     "status": "ok",
     "timestamp": 1744346909402,
     "user": {
      "displayName": "YUNQI SONG",
      "userId": "11479665574525118572"
     },
     "user_tz": 240
    },
    "id": "CiRzBkU8PjBp"
   },
   "outputs": [],
   "source": [
    "class TextCNN(nn.Module):\n",
    "    def __init__(self, embedding_matrix, num_filters=200, filter_sizes=(3,4,5), dropout=0.5):\n",
    "        super(TextCNN, self).__init__()\n",
    "        self.embedding = nn.Embedding.from_pretrained(embedding_matrix, freeze=False)\n",
    "\n",
    "        self.convs = nn.ModuleList([\n",
    "            nn.Conv1d(in_channels=embedding_matrix.size(1),\n",
    "                      out_channels=num_filters,\n",
    "                      kernel_size=fs)\n",
    "            for fs in filter_sizes\n",
    "        ])\n",
    "\n",
    "        self.dropout = nn.Dropout(dropout)\n",
    "        self.fc = nn.Linear(num_filters * len(filter_sizes), 1)\n",
    "        self.sigmoid = nn.Sigmoid()\n",
    "\n",
    "    def forward(self, x):\n",
    "        embedded = self.embedding(x)\n",
    "        embedded = embedded.permute(0, 2, 1)\n",
    "        conv_outs = [torch.relu(conv(embedded)) for conv in self.convs]\n",
    "        pooled = [torch.max(co, dim=2)[0] for co in conv_outs]\n",
    "\n",
    "        concat = torch.cat(pooled, dim=1)\n",
    "        dropped = self.dropout(concat)\n",
    "        return self.sigmoid(self.fc(dropped))"
   ]
  },
  {
   "cell_type": "markdown",
   "metadata": {},
   "source": [
    "The optimizer and loss criterion is same as LSTM."
   ]
  },
  {
   "cell_type": "code",
   "execution_count": 145,
   "metadata": {
    "executionInfo": {
     "elapsed": 116,
     "status": "ok",
     "timestamp": 1744346917103,
     "user": {
      "displayName": "YUNQI SONG",
      "userId": "11479665574525118572"
     },
     "user_tz": 240
    },
    "id": "vEkw9PilxqKM"
   },
   "outputs": [],
   "source": [
    "device = torch.device(\"cuda\" if torch.cuda.is_available() else \"cpu\")\n",
    "model3 = TextCNN(embedding_matrix,num_filters=200, filter_sizes=(3,4,5), dropout=0.5).to(device)\n",
    "optimizer = optim.Adam(model3.parameters(), lr=1e-4)\n",
    "criterion = nn.BCELoss()"
   ]
  },
  {
   "cell_type": "code",
   "execution_count": 147,
   "metadata": {
    "colab": {
     "base_uri": "https://localhost:8080/"
    },
    "executionInfo": {
     "elapsed": 146338,
     "status": "ok",
     "timestamp": 1744351214779,
     "user": {
      "displayName": "YUNQI SONG",
      "userId": "11479665574525118572"
     },
     "user_tz": 240
    },
    "id": "j3EdCuNjx26x",
    "outputId": "49205a38-a9c4-4591-81e3-15f1b654d1fe"
   },
   "outputs": [
    {
     "name": "stderr",
     "output_type": "stream",
     "text": [
      "Epoch 1: 100%|██████████| 3125/3125 [01:01<00:00, 50.48it/s]\n"
     ]
    },
    {
     "name": "stdout",
     "output_type": "stream",
     "text": [
      "Epoch 1 Avg Train Loss: 0.3279 | Val Loss: 0.2507\n"
     ]
    },
    {
     "name": "stderr",
     "output_type": "stream",
     "text": [
      "Epoch 2: 100%|██████████| 3125/3125 [01:01<00:00, 50.45it/s]\n"
     ]
    },
    {
     "name": "stdout",
     "output_type": "stream",
     "text": [
      "Epoch 2 Avg Train Loss: 0.2402 | Val Loss: 0.2248\n"
     ]
    },
    {
     "name": "stderr",
     "output_type": "stream",
     "text": [
      "Epoch 3: 100%|██████████| 3125/3125 [01:01<00:00, 50.43it/s]\n"
     ]
    },
    {
     "name": "stdout",
     "output_type": "stream",
     "text": [
      "Epoch 3 Avg Train Loss: 0.2137 | Val Loss: 0.2128\n"
     ]
    },
    {
     "name": "stderr",
     "output_type": "stream",
     "text": [
      "Epoch 4: 100%|██████████| 3125/3125 [01:01<00:00, 50.43it/s]\n"
     ]
    },
    {
     "name": "stdout",
     "output_type": "stream",
     "text": [
      "Epoch 4 Avg Train Loss: 0.1956 | Val Loss: 0.2076\n"
     ]
    },
    {
     "name": "stderr",
     "output_type": "stream",
     "text": [
      "Epoch 5: 100%|██████████| 3125/3125 [01:01<00:00, 50.43it/s]\n"
     ]
    },
    {
     "name": "stdout",
     "output_type": "stream",
     "text": [
      "Epoch 5 Avg Train Loss: 0.1812 | Val Loss: 0.2052\n"
     ]
    },
    {
     "name": "stderr",
     "output_type": "stream",
     "text": [
      "Epoch 6: 100%|██████████| 3125/3125 [01:01<00:00, 50.42it/s]\n"
     ]
    },
    {
     "name": "stdout",
     "output_type": "stream",
     "text": [
      "Epoch 6 Avg Train Loss: 0.1685 | Val Loss: 0.2052\n",
      "Early stop at Epoch 6\n"
     ]
    }
   ],
   "source": [
    "model3 = training(model3,train_loader,val_loader,optimizer,criterion,max_epoch=10,max_patience=1)"
   ]
  },
  {
   "cell_type": "code",
   "execution_count": 148,
   "metadata": {
    "colab": {
     "base_uri": "https://localhost:8080/"
    },
    "executionInfo": {
     "elapsed": 1729,
     "status": "ok",
     "timestamp": 1744351281027,
     "user": {
      "displayName": "YUNQI SONG",
      "userId": "11479665574525118572"
     },
     "user_tz": 240
    },
    "id": "t2ZqvZqTx6KD",
    "outputId": "709977ec-e617-470e-9e53-8a3cac722025"
   },
   "outputs": [
    {
     "name": "stdout",
     "output_type": "stream",
     "text": [
      "              precision    recall  f1-score   support\n",
      "\n",
      "           0       0.92      0.92      0.92    100495\n",
      "           1       0.92      0.92      0.92     99505\n",
      "\n",
      "    accuracy                           0.92    200000\n",
      "   macro avg       0.92      0.92      0.92    200000\n",
      "weighted avg       0.92      0.92      0.92    200000\n",
      "\n",
      "0.919705\n"
     ]
    }
   ],
   "source": [
    "pre_y_val3 = predict(model3,val_loader)\n",
    "print(classification_report(y_val,pre_y_val3>0.5))\n",
    "print(accuracy_score(y_val,pre_y_val3>0.5))"
   ]
  },
  {
   "cell_type": "code",
   "execution_count": 149,
   "metadata": {
    "colab": {
     "base_uri": "https://localhost:8080/"
    },
    "executionInfo": {
     "elapsed": 7,
     "status": "ok",
     "timestamp": 1744351282892,
     "user": {
      "displayName": "YUNQI SONG",
      "userId": "11479665574525118572"
     },
     "user_tz": 240
    },
    "id": "dA_bwHo10djn",
    "outputId": "1e158ad6-f07d-4c52-8894-3308f75cf96c"
   },
   "outputs": [
    {
     "data": {
      "text/plain": [
       "array([[92032,  8463],\n",
       "       [ 7596, 91909]], dtype=int64)"
      ]
     },
     "execution_count": 149,
     "metadata": {},
     "output_type": "execute_result"
    }
   ],
   "source": [
    "confusion_matrix(y_val,pre_y_val3>0.5)"
   ]
  },
  {
   "cell_type": "code",
   "execution_count": 150,
   "metadata": {
    "colab": {
     "base_uri": "https://localhost:8080/"
    },
    "executionInfo": {
     "elapsed": 918,
     "status": "ok",
     "timestamp": 1744351300379,
     "user": {
      "displayName": "YUNQI SONG",
      "userId": "11479665574525118572"
     },
     "user_tz": 240
    },
    "id": "oZcENiP8arvd",
    "outputId": "12fb3cc8-1066-4962-ca11-4025ce110e67"
   },
   "outputs": [
    {
     "name": "stdout",
     "output_type": "stream",
     "text": [
      "              precision    recall  f1-score   support\n",
      "\n",
      "           0       0.92      0.92      0.92     50299\n",
      "           1       0.92      0.92      0.92     49701\n",
      "\n",
      "    accuracy                           0.92    100000\n",
      "   macro avg       0.92      0.92      0.92    100000\n",
      "weighted avg       0.92      0.92      0.92    100000\n",
      "\n",
      "0.91893\n"
     ]
    }
   ],
   "source": [
    "pre_y_test3 = predict(model3,test_loader)\n",
    "print(classification_report(y_test,pre_y_test3>0.5))\n",
    "print(accuracy_score(y_test,pre_y_test3>0.5))"
   ]
  },
  {
   "cell_type": "code",
   "execution_count": 151,
   "metadata": {
    "colab": {
     "base_uri": "https://localhost:8080/"
    },
    "executionInfo": {
     "elapsed": 17,
     "status": "ok",
     "timestamp": 1744351301380,
     "user": {
      "displayName": "YUNQI SONG",
      "userId": "11479665574525118572"
     },
     "user_tz": 240
    },
    "id": "Izc8vRDza2hK",
    "outputId": "d0ea2bce-9845-46e5-c3b5-80ab3f91da06"
   },
   "outputs": [
    {
     "data": {
      "text/plain": [
       "array([[46069,  4230],\n",
       "       [ 3877, 45824]], dtype=int64)"
      ]
     },
     "execution_count": 151,
     "metadata": {},
     "output_type": "execute_result"
    }
   ],
   "source": [
    "confusion_matrix(y_test,pre_y_test3>0.5)"
   ]
  },
  {
   "cell_type": "markdown",
   "metadata": {},
   "source": [
    "Draw the ROC curve and compute the AUC."
   ]
  },
  {
   "cell_type": "code",
   "execution_count": 168,
   "metadata": {},
   "outputs": [
    {
     "data": {
      "image/png": "[encoded data removed]",
      "text/plain": [
       "<Figure size 640x480 with 1 Axes>"
      ]
     },
     "metadata": {},
     "output_type": "display_data"
    }
   ],
   "source": [
    "fpr3, tpr3, _ = roc_curve(y_test, pre_y_test3)\n",
    "auc_score3 = roc_auc_score(y_test, pre_y_test3)\n",
    "\n",
    "plt.figure()\n",
    "plt.plot(fpr3, tpr3, label=f'ROC Curve (AUC = {auc_score3:.4f})')\n",
    "plt.plot([0, 1], [0, 1], 'k--')\n",
    "plt.xlabel('False Positive Rate')\n",
    "plt.ylabel('True Positive Rate')\n",
    "plt.title('ROC Curve using TextCNN')\n",
    "plt.legend(loc='lower right')\n",
    "plt.grid(True)\n",
    "plt.show()"
   ]
  },
  {
   "cell_type": "markdown",
   "metadata": {},
   "source": [
    "Draw the three ROC curve together. To see the difference more clearly, we magnify a section of the figure."
   ]
  },
  {
   "cell_type": "code",
   "execution_count": 116,
   "metadata": {},
   "outputs": [
    {
     "data": {
      "image/png": "[encoded data removed]",
      "text/plain": [
       "<Figure size 640x480 with 1 Axes>"
      ]
     },
     "metadata": {},
     "output_type": "display_data"
    }
   ],
   "source": [
    "plt.figure()\n",
    "plt.plot(fpr1, tpr1, label=f'TF-IDF+LinearSVC (AUC = {auc_score1:.4f})')\n",
    "plt.plot(fpr2, tpr2, label=f'GloVe+LSTM (AUC = {auc_score2:.4f})')\n",
    "plt.plot(fpr3, tpr3, label=f'GloVe+TextCNN (AUC = {auc_score3:.4f})')\n",
    "plt.plot([0, 1], [0, 1], 'k--')\n",
    "plt.xlabel('False Positive Rate')\n",
    "plt.ylabel('True Positive Rate')\n",
    "plt.title('Three ROC Curves')\n",
    "plt.legend(loc='lower right')\n",
    "plt.grid(True)\n",
    "plt.show()"
   ]
  },
  {
   "cell_type": "code",
   "execution_count": 118,
   "metadata": {},
   "outputs": [
    {
     "data": {
      "image/png": "[encoded data removed]",
      "text/plain": [
       "<Figure size 640x480 with 1 Axes>"
      ]
     },
     "metadata": {},
     "output_type": "display_data"
    }
   ],
   "source": [
    "plt.figure()\n",
    "plt.plot(fpr1, tpr1, label=f'TF-IDF+LinearSVC (AUC = {auc_score1:.4f})')\n",
    "plt.plot(fpr2, tpr2, label=f'GloVe+LSTM (AUC = {auc_score2:.4f})')\n",
    "plt.plot(fpr3, tpr3, label=f'GloVe+TextCNN (AUC = {auc_score3:.4f})')\n",
    "plt.plot([0, 1], [0, 1], 'k--')\n",
    "plt.xlim(0,0.2)\n",
    "plt.ylim(0.7,1)\n",
    "plt.xlabel('False Positive Rate')\n",
    "plt.ylabel('True Positive Rate')\n",
    "plt.title('Three ROC Curves (Magnified)')\n",
    "plt.legend(loc='lower right')\n",
    "plt.grid(True)\n",
    "plt.show()"
   ]
  },
  {
   "cell_type": "markdown",
   "metadata": {
    "id": "j-e_XuYxpT3i"
   },
   "source": [
    "## BERT"
   ]
  },
  {
   "cell_type": "markdown",
   "metadata": {
    "id": "ei5QYybMqS44"
   },
   "source": [
    "Here we try to use BERT model. As a state-of-the-art (SOTA) model, BERT can significantly improve model performance across multiple natural language processing tasks without modifying its structure. To handle classification tasks, BERT model will add to each text (can be a sentence, paragraph, or article) a special token [CLS]. We can use the BERT output for this particular token as classification features\n",
    "\n",
    "We use the module 'transformers' to load a BERT model 'bert-base-uncased' from Hugging Face. This model can give 768-dimensional outputs."
   ]
  },
  {
   "cell_type": "markdown",
   "metadata": {},
   "source": [
    "First, we use the tokenizer provided by BERT to tokenize the reviews. Every review will be padded or truncated to be of length 200. The tokenizer will output two things, input_ids (the vocabulary index for each word in a review) and attention_masks (whether the word is a padded one or not)."
   ]
  },
  {
   "cell_type": "code",
   "execution_count": 21,
   "metadata": {
    "executionInfo": {
     "elapsed": 3,
     "status": "ok",
     "timestamp": 1744391419117,
     "user": {
      "displayName": "YUNQI SONG",
      "userId": "11479665574525118572"
     },
     "user_tz": 240
    },
    "id": "BwEzlGeRqZCk"
   },
   "outputs": [],
   "source": [
    "tokenizer = BertTokenizer.from_pretrained('bert-base-uncased')\n",
    "\n",
    "def tokenize(reviews):\n",
    "    results = tokenizer(reviews, truncation=True, padding=\"max_length\", max_length=200)\n",
    "    return results['input_ids'], results['attention_mask']\n",
    "\n",
    "X_train_input_ids, X_train_attention_masks = tokenize(list(X_train))\n",
    "X_val_input_ids, X_val_attention_masks = tokenize(list(X_val))\n",
    "X_test_input_ids, X_test_attention_masks = tokenize(list(X_test))"
   ]
  },
  {
   "cell_type": "markdown",
   "metadata": {},
   "source": [
    "torch Dataset and DataLoader for BERT."
   ]
  },
  {
   "cell_type": "code",
   "execution_count": 22,
   "metadata": {
    "executionInfo": {
     "elapsed": 178,
     "status": "ok",
     "timestamp": 1744395723808,
     "user": {
      "displayName": "YUNQI SONG",
      "userId": "11479665574525118572"
     },
     "user_tz": 240
    },
    "id": "TgUKq6Sky-tx"
   },
   "outputs": [],
   "source": [
    "class BERTDataset(Dataset):\n",
    "    def __init__(self, input_ids,attention_masks,y):\n",
    "        self.input_ids = input_ids\n",
    "        self.attention_masks = attention_masks\n",
    "        self.y = y\n",
    "\n",
    "    def __len__(self):\n",
    "        return len(self.y)\n",
    "\n",
    "    def __getitem__(self, idx):\n",
    "        return torch.tensor(self.input_ids[idx],dtype=torch.long), torch.tensor(self.attention_masks[idx],dtype=torch.long),torch.tensor(self.y[idx],dtype=torch.float)\n",
    "\n",
    "train_dataset = BERTDataset(X_train_input_ids, X_train_attention_masks,y_train)\n",
    "val_dataset = BERTDataset(X_val_input_ids, X_val_attention_masks,y_val)\n",
    "test_dataset = BERTDataset(X_test_input_ids, X_test_attention_masks,y_test)\n",
    "train_loader = DataLoader(train_dataset, batch_size=128, shuffle=True)\n",
    "val_loader = DataLoader(val_dataset, batch_size=128)\n",
    "test_loader = DataLoader(test_dataset, batch_size=128)\n"
   ]
  },
  {
   "cell_type": "markdown",
   "metadata": {},
   "source": [
    "Our BERT model. A tokenized review will be put into the BERT model and we get the feature vector for [CLS]. Then we input the vector to a linear function and a sigmoid fucntion, and finally obtain a probability.\n",
    "\n",
    "We use a rate=0.3 dropout."
   ]
  },
  {
   "cell_type": "code",
   "execution_count": 29,
   "metadata": {
    "colab": {
     "base_uri": "https://localhost:8080/"
    },
    "id": "eoKs7huucdn5",
    "outputId": "082897f2-f8c0-47d3-9060-9ed485edfebb"
   },
   "outputs": [],
   "source": [
    "class BERTClassifier(nn.Module):\n",
    "    def __init__(self, bert_model_name='bert-base-uncased', dropout_rate=0.3):\n",
    "        super().__init__()\n",
    "        \n",
    "        self.bert = BertModel.from_pretrained(bert_model_name)\n",
    "        \n",
    "        self.dropout = nn.Dropout(dropout_rate)\n",
    "        self.linear = nn.Linear(self.bert.config.hidden_size, 1)\n",
    "        self.sigmoid = nn.Sigmoid()\n",
    "\n",
    "    def forward(self, input_ids, attention_mask):\n",
    "        outputs = self.bert(\n",
    "            input_ids=input_ids,\n",
    "            attention_mask=attention_mask,\n",
    "            return_dict=True\n",
    "        )\n",
    "        \n",
    "        pooler_output = outputs.pooler_output  \n",
    "        x = self.dropout(pooler_output)\n",
    "        return self.sigmoid(self.linear(x)) \n",
    "\n",
    "     "
   ]
  },
  {
   "cell_type": "markdown",
   "metadata": {},
   "source": [
    "The function below can conduct training process for BERT only. 'max_epoch' controls the epoch of the training process. To avoid overfitting, we also apply early stop. That is, whenever there exists a validation loss increasing, we will stop at that epoch."
   ]
  },
  {
   "cell_type": "code",
   "execution_count": 31,
   "metadata": {},
   "outputs": [],
   "source": [
    "def BERTtraining(model,train_loader,val_loader,optimizer,criterion,max_epoch=10,max_patience=1):\n",
    "    if max_patience!=0:\n",
    "      patience = 0\n",
    "      min_val_loss = float('inf')\n",
    "    for epoch in range(max_epoch):\n",
    "        model.train()\n",
    "        total_loss = 0\n",
    "        for input_ids, attention_masks,y in tqdm(train_loader, desc=f\"Epoch {epoch+1}\"):\n",
    "            input_ids, attention_masks,y = input_ids.to(device), attention_masks.to(device), y.unsqueeze(1).to(device)\n",
    "            optimizer.zero_grad()\n",
    "            preds = model(input_ids,attention_masks)\n",
    "            loss = criterion(preds, y)\n",
    "            loss.backward()\n",
    "            optimizer.step()\n",
    "            total_loss += loss.item()\n",
    "            \n",
    "        model.eval()\n",
    "        val_loss = 0\n",
    "        with torch.no_grad():\n",
    "            for input_ids, attention_masks,y in tqdm(val_loader, desc=f\"Epoch {epoch+1}\"):\n",
    "                input_ids, attention_masks,y = input_ids.to(device), attention_masks.to(device), y.unsqueeze(1).to(device)\n",
    "                preds = model(input_ids,attention_masks)\n",
    "                loss = criterion(preds, y)\n",
    "                val_loss += loss.item()\n",
    "                \n",
    "        avg_train_loss = total_loss / len(train_loader)\n",
    "        avg_val_loss = val_loss / len(val_loader)\n",
    "        \n",
    "        if min_val_loss>avg_val_loss:\n",
    "          min_val_loss = avg_val_loss\n",
    "          patience = 0\n",
    "        else:\n",
    "          patience += 1\n",
    "        print(f\"Epoch {epoch+1} Avg Train Loss: {avg_train_loss:.4f} | Val Loss: {avg_val_loss:.4f}\")\n",
    "        if patience == max_patience:\n",
    "          print(f'Early stop at Epoch {epoch+1}')\n",
    "          break\n",
    "    return model"
   ]
  },
  {
   "cell_type": "markdown",
   "metadata": {},
   "source": [
    "The optimizer and loss criterion is same as LSTM."
   ]
  },
  {
   "cell_type": "code",
   "execution_count": 33,
   "metadata": {},
   "outputs": [],
   "source": [
    "device = torch.device(\"cuda\" if torch.cuda.is_available() else \"cpu\")\n",
    "model4 = BERTClassifier(dropout_rate = 0.3).to(device)\n",
    "optimizer = optim.Adam(model4.parameters(), lr=1e-4)\n",
    "criterion = nn.BCELoss()"
   ]
  },
  {
   "cell_type": "code",
   "execution_count": 35,
   "metadata": {},
   "outputs": [
    {
     "name": "stderr",
     "output_type": "stream",
     "text": [
      "Epoch 1: 100%|██████████| 6250/6250 [45:21<00:00,  2.30it/s]\n",
      "Epoch 1: 100%|██████████| 1563/1563 [03:37<00:00,  7.17it/s]\n"
     ]
    },
    {
     "name": "stdout",
     "output_type": "stream",
     "text": [
      "Epoch 1 Avg Train Loss: 0.1529 | Val Loss: 0.1298\n"
     ]
    },
    {
     "name": "stderr",
     "output_type": "stream",
     "text": [
      "Epoch 2: 100%|██████████| 6250/6250 [46:00<00:00,  2.26it/s]  \n",
      "Epoch 2: 100%|██████████| 1563/1563 [03:41<00:00,  7.07it/s]\n"
     ]
    },
    {
     "name": "stdout",
     "output_type": "stream",
     "text": [
      "Epoch 2 Avg Train Loss: 0.1207 | Val Loss: 0.1290\n"
     ]
    },
    {
     "name": "stderr",
     "output_type": "stream",
     "text": [
      "Epoch 3: 100%|██████████| 6250/6250 [45:48<00:00,  2.27it/s]\n",
      "Epoch 3: 100%|██████████| 1563/1563 [03:34<00:00,  7.30it/s]"
     ]
    },
    {
     "name": "stdout",
     "output_type": "stream",
     "text": [
      "Epoch 3 Avg Train Loss: 0.1045 | Val Loss: 0.1391\n",
      "Early stop at Epoch 3\n"
     ]
    },
    {
     "name": "stderr",
     "output_type": "stream",
     "text": [
      "\n"
     ]
    }
   ],
   "source": [
    "model4 = BERTtraining(model4,train_loader,val_loader,optimizer,criterion,max_epoch=10,max_patience=1)"
   ]
  },
  {
   "cell_type": "markdown",
   "metadata": {},
   "source": [
    "The function below can return the BERT predict probability as numpy array."
   ]
  },
  {
   "cell_type": "code",
   "execution_count": 37,
   "metadata": {},
   "outputs": [],
   "source": [
    "def BERTpredict(model,dataloader):\n",
    "    device = torch.device(\"cuda\" if torch.cuda.is_available() else \"cpu\")\n",
    "    model.eval()\n",
    "    outputs = []\n",
    "    with torch.no_grad():\n",
    "        for input_ids,attention_masks,_ in dataloader:\n",
    "            input_ids,attention_masks = input_ids.to(device),attention_masks.to(device)\n",
    "            pre = model(input_ids,attention_masks).squeeze()\n",
    "            outputs.append(pre)\n",
    "    outputs = torch.cat(outputs,dim=0)\n",
    "    return outputs.detach().cpu().numpy()"
   ]
  },
  {
   "cell_type": "code",
   "execution_count": 39,
   "metadata": {
    "id": "TtYymiHROvCJ"
   },
   "outputs": [
    {
     "name": "stdout",
     "output_type": "stream",
     "text": [
      "              precision    recall  f1-score   support\n",
      "\n",
      "           0       0.95      0.96      0.95    100495\n",
      "           1       0.96      0.94      0.95     99505\n",
      "\n",
      "    accuracy                           0.95    200000\n",
      "   macro avg       0.95      0.95      0.95    200000\n",
      "weighted avg       0.95      0.95      0.95    200000\n",
      "\n",
      "0.951095\n"
     ]
    }
   ],
   "source": [
    "pre_y_val4 = BERTpredict(model4,val_loader)\n",
    "print(classification_report(y_val,pre_y_val4>0.5))\n",
    "print(accuracy_score(y_val,pre_y_val4>0.5))"
   ]
  },
  {
   "cell_type": "code",
   "execution_count": 40,
   "metadata": {
    "id": "f1aU2OpIZTXD"
   },
   "outputs": [
    {
     "data": {
      "text/plain": [
       "array([[96231,  4264],\n",
       "       [ 5517, 93988]], dtype=int64)"
      ]
     },
     "execution_count": 40,
     "metadata": {},
     "output_type": "execute_result"
    }
   ],
   "source": [
    "confusion_matrix(y_val,pre_y_val4>0.5)"
   ]
  },
  {
   "cell_type": "code",
   "execution_count": 41,
   "metadata": {
    "id": "_oexCoDjZh86"
   },
   "outputs": [
    {
     "name": "stdout",
     "output_type": "stream",
     "text": [
      "              precision    recall  f1-score   support\n",
      "\n",
      "           0       0.95      0.96      0.95     50299\n",
      "           1       0.96      0.94      0.95     49701\n",
      "\n",
      "    accuracy                           0.95    100000\n",
      "   macro avg       0.95      0.95      0.95    100000\n",
      "weighted avg       0.95      0.95      0.95    100000\n",
      "\n",
      "0.95071\n"
     ]
    }
   ],
   "source": [
    "pre_y_test4 = BERTpredict(model4,test_loader)\n",
    "print(classification_report(y_test,pre_y_test4>0.5))\n",
    "print(accuracy_score(y_test,pre_y_test4>0.5))"
   ]
  },
  {
   "cell_type": "code",
   "execution_count": 42,
   "metadata": {
    "colab": {
     "base_uri": "https://localhost:8080/"
    },
    "executionInfo": {
     "elapsed": 21,
     "status": "ok",
     "timestamp": 1744395660300,
     "user": {
      "displayName": "YUNQI SONG",
      "userId": "11479665574525118572"
     },
     "user_tz": 240
    },
    "id": "TMZ1OuQVZvSJ",
    "outputId": "9d426ef3-3658-4a29-e019-eef8f65d47e4"
   },
   "outputs": [
    {
     "data": {
      "text/plain": [
       "array([[48111,  2188],\n",
       "       [ 2741, 46960]], dtype=int64)"
      ]
     },
     "execution_count": 42,
     "metadata": {},
     "output_type": "execute_result"
    }
   ],
   "source": [
    "confusion_matrix(y_test,pre_y_test4>0.5)"
   ]
  },
  {
   "cell_type": "markdown",
   "metadata": {},
   "source": [
    "ROC curve and AUC."
   ]
  },
  {
   "cell_type": "code",
   "execution_count": 49,
   "metadata": {},
   "outputs": [
    {
     "data": {
      "image/png": "[encoded data removed]",
      "text/plain": [
       "<Figure size 640x480 with 1 Axes>"
      ]
     },
     "metadata": {},
     "output_type": "display_data"
    }
   ],
   "source": [
    "fpr4, tpr4, _ = roc_curve(y_test, pre_y_test4)\n",
    "auc_score4 = roc_auc_score(y_test, pre_y_test4)\n",
    "\n",
    "plt.figure()\n",
    "plt.plot(fpr4, tpr4, label=f'ROC Curve (AUC = {auc_score4:.4f})')\n",
    "plt.plot([0, 1], [0, 1], 'k--')\n",
    "plt.xlabel('False Positive Rate')\n",
    "plt.ylabel('True Positive Rate')\n",
    "plt.title('ROC Curve using BERT')\n",
    "plt.legend(loc='lower right')\n",
    "plt.grid(True)\n",
    "plt.show()"
   ]
  },
  {
   "cell_type": "markdown",
   "metadata": {},
   "source": [
    "ROC curves and AUC values for all the four models."
   ]
  },
  {
   "cell_type": "code",
   "execution_count": 120,
   "metadata": {},
   "outputs": [
    {
     "data": {
      "image/png": "[encoded data removed]",
      "text/plain": [
       "<Figure size 640x480 with 1 Axes>"
      ]
     },
     "metadata": {},
     "output_type": "display_data"
    }
   ],
   "source": [
    "plt.figure()\n",
    "plt.plot(fpr1, tpr1, label=f'TF-IDF+LinearSVC (AUC = {auc_score1:.4f})')\n",
    "plt.plot(fpr2, tpr2, label=f'GloVe+LSTM (AUC = {auc_score2:.4f})')\n",
    "plt.plot(fpr3, tpr3, label=f'GloVe+TextCNN (AUC = {auc_score3:.4f})')\n",
    "plt.plot(fpr4, tpr4, label=f'BERT (AUC = {auc_score4:.4f})')\n",
    "plt.plot([0, 1], [0, 1], 'k--')\n",
    "plt.xlabel('False Positive Rate')\n",
    "plt.ylabel('True Positive Rate')\n",
    "plt.title('Four ROC Curves')\n",
    "plt.legend(loc='lower right')\n",
    "plt.grid(True)\n",
    "plt.show()"
   ]
  },
  {
   "cell_type": "markdown",
   "metadata": {},
   "source": [
    "To see the difference more clearly, we magnify a section of the figure."
   ]
  },
  {
   "cell_type": "code",
   "execution_count": 122,
   "metadata": {},
   "outputs": [
    {
     "data": {
      "image/png": "[encoded data removed]",
      "text/plain": [
       "<Figure size 640x480 with 1 Axes>"
      ]
     },
     "metadata": {},
     "output_type": "display_data"
    }
   ],
   "source": [
    "plt.figure()\n",
    "plt.plot(fpr1, tpr1, label=f'TF-IDF+LinearSVC (AUC = {auc_score1:.4f})')\n",
    "plt.plot(fpr2, tpr2, label=f'GloVe+LSTM (AUC = {auc_score2:.4f})')\n",
    "plt.plot(fpr3, tpr3, label=f'GloVe+TextCNN (AUC = {auc_score3:.4f})')\n",
    "plt.plot(fpr4, tpr4, label=f'BERT (AUC = {auc_score4:.4f})')\n",
    "plt.plot([0, 1], [0, 1], 'k--')\n",
    "plt.xlim(0,0.2)\n",
    "plt.ylim(0.7,1)\n",
    "plt.xlabel('False Positive Rate')\n",
    "plt.ylabel('True Positive Rate')\n",
    "plt.title('Four ROC Curves (Magnified)')\n",
    "plt.legend(loc='lower right')\n",
    "plt.grid(True)\n",
    "plt.show()"
   ]
  },
  {
   "cell_type": "code",
   "execution_count": null,
   "metadata": {},
   "outputs": [],
   "source": []
  }
 ],
 "metadata": {
  "accelerator": "GPU",
  "colab": {
   "gpuType": "A100",
   "provenance": []
  },
  "kernelspec": {
   "display_name": "Python [conda env:base] *",
   "language": "python",
   "name": "conda-base-py"
  },
  "language_info": {
   "codemirror_mode": {
    "name": "ipython",
    "version": 3
   },
   "file_extension": ".py",
   "mimetype": "text/x-python",
   "name": "python",
   "nbconvert_exporter": "python",
   "pygments_lexer": "ipython3",
   "version": "3.12.7"
  },
  "widgets": {
   "application/vnd.jupyter.widget-state+json": {
    "0160568bce3348ca9e327f58792e7341": {
     "model_module": "@jupyter-widgets/controls",
     "model_module_version": "1.5.0",
     "model_name": "HTMLModel",
     "state": {
      "_dom_classes": [],
      "_model_module": "@jupyter-widgets/controls",
      "_model_module_version": "1.5.0",
      "_model_name": "HTMLModel",
      "_view_count": null,
      "_view_module": "@jupyter-widgets/controls",
      "_view_module_version": "1.5.0",
      "_view_name": "HTMLView",
      "description": "",
      "description_tooltip": null,
      "layout": "IPY_MODEL_bf0f0754977e49f89eb5008751dc1089",
      "placeholder": "​",
      "style": "IPY_MODEL_1ad60b70c274475e8e9766df0a113bf5",
      "value": "Generating train split: 100%"
     }
    },
    "06cb007159754b6a93b331203feaf986": {
     "model_module": "@jupyter-widgets/base",
     "model_module_version": "1.2.0",
     "model_name": "LayoutModel",
     "state": {
      "_model_module": "@jupyter-widgets/base",
      "_model_module_version": "1.2.0",
      "_model_name": "LayoutModel",
      "_view_count": null,
      "_view_module": "@jupyter-widgets/base",
      "_view_module_version": "1.2.0",
      "_view_name": "LayoutView",
      "align_content": null,
      "align_items": null,
      "align_self": null,
      "border": null,
      "bottom": null,
      "display": null,
      "flex": null,
      "flex_flow": null,
      "grid_area": null,
      "grid_auto_columns": null,
      "grid_auto_flow": null,
      "grid_auto_rows": null,
      "grid_column": null,
      "grid_gap": null,
      "grid_row": null,
      "grid_template_areas": null,
      "grid_template_columns": null,
      "grid_template_rows": null,
      "height": null,
      "justify_content": null,
      "justify_items": null,
      "left": null,
      "margin": null,
      "max_height": null,
      "max_width": null,
      "min_height": null,
      "min_width": null,
      "object_fit": null,
      "object_position": null,
      "order": null,
      "overflow": null,
      "overflow_x": null,
      "overflow_y": null,
      "padding": null,
      "right": null,
      "top": null,
      "visibility": null,
      "width": null
     }
    },
    "08baf6e0b9454375b3c1b4da07b9e814": {
     "model_module": "@jupyter-widgets/base",
     "model_module_version": "1.2.0",
     "model_name": "LayoutModel",
     "state": {
      "_model_module": "@jupyter-widgets/base",
      "_model_module_version": "1.2.0",
      "_model_name": "LayoutModel",
      "_view_count": null,
      "_view_module": "@jupyter-widgets/base",
      "_view_module_version": "1.2.0",
      "_view_name": "LayoutView",
      "align_content": null,
      "align_items": null,
      "align_self": null,
      "border": null,
      "bottom": null,
      "display": null,
      "flex": null,
      "flex_flow": null,
      "grid_area": null,
      "grid_auto_columns": null,
      "grid_auto_flow": null,
      "grid_auto_rows": null,
      "grid_column": null,
      "grid_gap": null,
      "grid_row": null,
      "grid_template_areas": null,
      "grid_template_columns": null,
      "grid_template_rows": null,
      "height": null,
      "justify_content": null,
      "justify_items": null,
      "left": null,
      "margin": null,
      "max_height": null,
      "max_width": null,
      "min_height": null,
      "min_width": null,
      "object_fit": null,
      "object_position": null,
      "order": null,
      "overflow": null,
      "overflow_x": null,
      "overflow_y": null,
      "padding": null,
      "right": null,
      "top": null,
      "visibility": null,
      "width": null
     }
    },
    "09ef2343e15f4f8ba35371be6bf0356f": {
     "model_module": "@jupyter-widgets/controls",
     "model_module_version": "1.5.0",
     "model_name": "ProgressStyleModel",
     "state": {
      "_model_module": "@jupyter-widgets/controls",
      "_model_module_version": "1.5.0",
      "_model_name": "ProgressStyleModel",
      "_view_count": null,
      "_view_module": "@jupyter-widgets/base",
      "_view_module_version": "1.2.0",
      "_view_name": "StyleView",
      "bar_color": null,
      "description_width": ""
     }
    },
    "0aa0e908250749bb93c3d935c414a06b": {
     "model_module": "@jupyter-widgets/controls",
     "model_module_version": "1.5.0",
     "model_name": "HTMLModel",
     "state": {
      "_dom_classes": [],
      "_model_module": "@jupyter-widgets/controls",
      "_model_module_version": "1.5.0",
      "_model_name": "HTMLModel",
      "_view_count": null,
      "_view_module": "@jupyter-widgets/controls",
      "_view_module_version": "1.5.0",
      "_view_name": "HTMLView",
      "description": "",
      "description_tooltip": null,
      "layout": "IPY_MODEL_db8b6adc72ea4fcbb08563118e37ffbc",
      "placeholder": "​",
      "style": "IPY_MODEL_5698cd3d266d4108a5f5f21fe4cbbdbc",
      "value": " 400000/400000 [00:00&lt;00:00, 615868.58 examples/s]"
     }
    },
    "0dcf51cd7f99496bb963f3cde4b40554": {
     "model_module": "@jupyter-widgets/controls",
     "model_module_version": "1.5.0",
     "model_name": "DescriptionStyleModel",
     "state": {
      "_model_module": "@jupyter-widgets/controls",
      "_model_module_version": "1.5.0",
      "_model_name": "DescriptionStyleModel",
      "_view_count": null,
      "_view_module": "@jupyter-widgets/base",
      "_view_module_version": "1.2.0",
      "_view_name": "StyleView",
      "description_width": ""
     }
    },
    "0e2b7fedb261425fa9db65907590afe5": {
     "model_module": "@jupyter-widgets/controls",
     "model_module_version": "1.5.0",
     "model_name": "HTMLModel",
     "state": {
      "_dom_classes": [],
      "_model_module": "@jupyter-widgets/controls",
      "_model_module_version": "1.5.0",
      "_model_name": "HTMLModel",
      "_view_count": null,
      "_view_module": "@jupyter-widgets/controls",
      "_view_module_version": "1.5.0",
      "_view_name": "HTMLView",
      "description": "",
      "description_tooltip": null,
      "layout": "IPY_MODEL_3337d088c6ef4d1a973775d345f65272",
      "placeholder": "​",
      "style": "IPY_MODEL_a59d2ec37bc74ea4a545d17fa35f0159",
      "value": "glove-wiki-gigaword-300.model: 100%"
     }
    },
    "130207d2bbe647769ee4fc19e12236b1": {
     "model_module": "@jupyter-widgets/controls",
     "model_module_version": "1.5.0",
     "model_name": "HTMLModel",
     "state": {
      "_dom_classes": [],
      "_model_module": "@jupyter-widgets/controls",
      "_model_module_version": "1.5.0",
      "_model_name": "HTMLModel",
      "_view_count": null,
      "_view_module": "@jupyter-widgets/controls",
      "_view_module_version": "1.5.0",
      "_view_name": "HTMLView",
      "description": "",
      "description_tooltip": null,
      "layout": "IPY_MODEL_c25503a9fb104b9e900e68c3ef61e454",
      "placeholder": "​",
      "style": "IPY_MODEL_23a4b271461b43f3abd2c171444fd57e",
      "value": "test-00000-of-00001.parquet: 100%"
     }
    },
    "1386868fe19a4932bdabac99c393b380": {
     "model_module": "@jupyter-widgets/base",
     "model_module_version": "1.2.0",
     "model_name": "LayoutModel",
     "state": {
      "_model_module": "@jupyter-widgets/base",
      "_model_module_version": "1.2.0",
      "_model_name": "LayoutModel",
      "_view_count": null,
      "_view_module": "@jupyter-widgets/base",
      "_view_module_version": "1.2.0",
      "_view_name": "LayoutView",
      "align_content": null,
      "align_items": null,
      "align_self": null,
      "border": null,
      "bottom": null,
      "display": null,
      "flex": null,
      "flex_flow": null,
      "grid_area": null,
      "grid_auto_columns": null,
      "grid_auto_flow": null,
      "grid_auto_rows": null,
      "grid_column": null,
      "grid_gap": null,
      "grid_row": null,
      "grid_template_areas": null,
      "grid_template_columns": null,
      "grid_template_rows": null,
      "height": null,
      "justify_content": null,
      "justify_items": null,
      "left": null,
      "margin": null,
      "max_height": null,
      "max_width": null,
      "min_height": null,
      "min_width": null,
      "object_fit": null,
      "object_position": null,
      "order": null,
      "overflow": null,
      "overflow_x": null,
      "overflow_y": null,
      "padding": null,
      "right": null,
      "top": null,
      "visibility": null,
      "width": null
     }
    },
    "13e4df179b2e4bd2abe74e368902646c": {
     "model_module": "@jupyter-widgets/controls",
     "model_module_version": "1.5.0",
     "model_name": "HTMLModel",
     "state": {
      "_dom_classes": [],
      "_model_module": "@jupyter-widgets/controls",
      "_model_module_version": "1.5.0",
      "_model_name": "HTMLModel",
      "_view_count": null,
      "_view_module": "@jupyter-widgets/controls",
      "_view_module_version": "1.5.0",
      "_view_name": "HTMLView",
      "description": "",
      "description_tooltip": null,
      "layout": "IPY_MODEL_48ce51d0b3f34916be1625e27993e7b5",
      "placeholder": "​",
      "style": "IPY_MODEL_b4c9857a2a6b48318875e302eb79aa04",
      "value": " 117M/117M [00:00&lt;00:00, 279MB/s]"
     }
    },
    "149b924c27eb415dbdd235b4e21a9793": {
     "model_module": "@jupyter-widgets/base",
     "model_module_version": "1.2.0",
     "model_name": "LayoutModel",
     "state": {
      "_model_module": "@jupyter-widgets/base",
      "_model_module_version": "1.2.0",
      "_model_name": "LayoutModel",
      "_view_count": null,
      "_view_module": "@jupyter-widgets/base",
      "_view_module_version": "1.2.0",
      "_view_name": "LayoutView",
      "align_content": null,
      "align_items": null,
      "align_self": null,
      "border": null,
      "bottom": null,
      "display": null,
      "flex": null,
      "flex_flow": null,
      "grid_area": null,
      "grid_auto_columns": null,
      "grid_auto_flow": null,
      "grid_auto_rows": null,
      "grid_column": null,
      "grid_gap": null,
      "grid_row": null,
      "grid_template_areas": null,
      "grid_template_columns": null,
      "grid_template_rows": null,
      "height": null,
      "justify_content": null,
      "justify_items": null,
      "left": null,
      "margin": null,
      "max_height": null,
      "max_width": null,
      "min_height": null,
      "min_width": null,
      "object_fit": null,
      "object_position": null,
      "order": null,
      "overflow": null,
      "overflow_x": null,
      "overflow_y": null,
      "padding": null,
      "right": null,
      "top": null,
      "visibility": null,
      "width": null
     }
    },
    "16200ee3e76042edb42b031ec238dbca": {
     "model_module": "@jupyter-widgets/controls",
     "model_module_version": "1.5.0",
     "model_name": "HTMLModel",
     "state": {
      "_dom_classes": [],
      "_model_module": "@jupyter-widgets/controls",
      "_model_module_version": "1.5.0",
      "_model_name": "HTMLModel",
      "_view_count": null,
      "_view_module": "@jupyter-widgets/controls",
      "_view_module_version": "1.5.0",
      "_view_name": "HTMLView",
      "description": "",
      "description_tooltip": null,
      "layout": "IPY_MODEL_3d57843302174bfa9d623b6e7d0226f4",
      "placeholder": "​",
      "style": "IPY_MODEL_b744735f167744a28a042d924dcad73f",
      "value": " 6.81k/6.81k [00:00&lt;00:00, 812kB/s]"
     }
    },
    "1ad60b70c274475e8e9766df0a113bf5": {
     "model_module": "@jupyter-widgets/controls",
     "model_module_version": "1.5.0",
     "model_name": "DescriptionStyleModel",
     "state": {
      "_model_module": "@jupyter-widgets/controls",
      "_model_module_version": "1.5.0",
      "_model_name": "DescriptionStyleModel",
      "_view_count": null,
      "_view_module": "@jupyter-widgets/base",
      "_view_module_version": "1.2.0",
      "_view_name": "StyleView",
      "description_width": ""
     }
    },
    "1d79713026f64b9082f15fe26e9f7855": {
     "model_module": "@jupyter-widgets/base",
     "model_module_version": "1.2.0",
     "model_name": "LayoutModel",
     "state": {
      "_model_module": "@jupyter-widgets/base",
      "_model_module_version": "1.2.0",
      "_model_name": "LayoutModel",
      "_view_count": null,
      "_view_module": "@jupyter-widgets/base",
      "_view_module_version": "1.2.0",
      "_view_name": "LayoutView",
      "align_content": null,
      "align_items": null,
      "align_self": null,
      "border": null,
      "bottom": null,
      "display": null,
      "flex": null,
      "flex_flow": null,
      "grid_area": null,
      "grid_auto_columns": null,
      "grid_auto_flow": null,
      "grid_auto_rows": null,
      "grid_column": null,
      "grid_gap": null,
      "grid_row": null,
      "grid_template_areas": null,
      "grid_template_columns": null,
      "grid_template_rows": null,
      "height": null,
      "justify_content": null,
      "justify_items": null,
      "left": null,
      "margin": null,
      "max_height": null,
      "max_width": null,
      "min_height": null,
      "min_width": null,
      "object_fit": null,
      "object_position": null,
      "order": null,
      "overflow": null,
      "overflow_x": null,
      "overflow_y": null,
      "padding": null,
      "right": null,
      "top": null,
      "visibility": null,
      "width": null
     }
    },
    "1e95e1fafaf5475fbffb3b3de89d4ee5": {
     "model_module": "@jupyter-widgets/base",
     "model_module_version": "1.2.0",
     "model_name": "LayoutModel",
     "state": {
      "_model_module": "@jupyter-widgets/base",
      "_model_module_version": "1.2.0",
      "_model_name": "LayoutModel",
      "_view_count": null,
      "_view_module": "@jupyter-widgets/base",
      "_view_module_version": "1.2.0",
      "_view_name": "LayoutView",
      "align_content": null,
      "align_items": null,
      "align_self": null,
      "border": null,
      "bottom": null,
      "display": null,
      "flex": null,
      "flex_flow": null,
      "grid_area": null,
      "grid_auto_columns": null,
      "grid_auto_flow": null,
      "grid_auto_rows": null,
      "grid_column": null,
      "grid_gap": null,
      "grid_row": null,
      "grid_template_areas": null,
      "grid_template_columns": null,
      "grid_template_rows": null,
      "height": null,
      "justify_content": null,
      "justify_items": null,
      "left": null,
      "margin": null,
      "max_height": null,
      "max_width": null,
      "min_height": null,
      "min_width": null,
      "object_fit": null,
      "object_position": null,
      "order": null,
      "overflow": null,
      "overflow_x": null,
      "overflow_y": null,
      "padding": null,
      "right": null,
      "top": null,
      "visibility": null,
      "width": null
     }
    },
    "1f9595e0b9b74855b7fd15f56c6a1387": {
     "model_module": "@jupyter-widgets/base",
     "model_module_version": "1.2.0",
     "model_name": "LayoutModel",
     "state": {
      "_model_module": "@jupyter-widgets/base",
      "_model_module_version": "1.2.0",
      "_model_name": "LayoutModel",
      "_view_count": null,
      "_view_module": "@jupyter-widgets/base",
      "_view_module_version": "1.2.0",
      "_view_name": "LayoutView",
      "align_content": null,
      "align_items": null,
      "align_self": null,
      "border": null,
      "bottom": null,
      "display": null,
      "flex": null,
      "flex_flow": null,
      "grid_area": null,
      "grid_auto_columns": null,
      "grid_auto_flow": null,
      "grid_auto_rows": null,
      "grid_column": null,
      "grid_gap": null,
      "grid_row": null,
      "grid_template_areas": null,
      "grid_template_columns": null,
      "grid_template_rows": null,
      "height": null,
      "justify_content": null,
      "justify_items": null,
      "left": null,
      "margin": null,
      "max_height": null,
      "max_width": null,
      "min_height": null,
      "min_width": null,
      "object_fit": null,
      "object_position": null,
      "order": null,
      "overflow": null,
      "overflow_x": null,
      "overflow_y": null,
      "padding": null,
      "right": null,
      "top": null,
      "visibility": null,
      "width": null
     }
    },
    "21c9b70a9c0240cea4e8e3248db3f6b8": {
     "model_module": "@jupyter-widgets/controls",
     "model_module_version": "1.5.0",
     "model_name": "HTMLModel",
     "state": {
      "_dom_classes": [],
      "_model_module": "@jupyter-widgets/controls",
      "_model_module_version": "1.5.0",
      "_model_name": "HTMLModel",
      "_view_count": null,
      "_view_module": "@jupyter-widgets/controls",
      "_view_module_version": "1.5.0",
      "_view_name": "HTMLView",
      "description": "",
      "description_tooltip": null,
      "layout": "IPY_MODEL_e7e0b1c55b374660a2796105d6aec9a1",
      "placeholder": "​",
      "style": "IPY_MODEL_c4d3487c9363420bb1afe13e4ffe4200",
      "value": "train-00002-of-00004.parquet: 100%"
     }
    },
    "22bbec871dda4b4883e18b89c1ade997": {
     "model_module": "@jupyter-widgets/controls",
     "model_module_version": "1.5.0",
     "model_name": "DescriptionStyleModel",
     "state": {
      "_model_module": "@jupyter-widgets/controls",
      "_model_module_version": "1.5.0",
      "_model_name": "DescriptionStyleModel",
      "_view_count": null,
      "_view_module": "@jupyter-widgets/base",
      "_view_module_version": "1.2.0",
      "_view_name": "StyleView",
      "description_width": ""
     }
    },
    "23a4b271461b43f3abd2c171444fd57e": {
     "model_module": "@jupyter-widgets/controls",
     "model_module_version": "1.5.0",
     "model_name": "DescriptionStyleModel",
     "state": {
      "_model_module": "@jupyter-widgets/controls",
      "_model_module_version": "1.5.0",
      "_model_name": "DescriptionStyleModel",
      "_view_count": null,
      "_view_module": "@jupyter-widgets/base",
      "_view_module_version": "1.2.0",
      "_view_name": "StyleView",
      "description_width": ""
     }
    },
    "2504296d4b6442babebb95d6168f25d9": {
     "model_module": "@jupyter-widgets/controls",
     "model_module_version": "1.5.0",
     "model_name": "HBoxModel",
     "state": {
      "_dom_classes": [],
      "_model_module": "@jupyter-widgets/controls",
      "_model_module_version": "1.5.0",
      "_model_name": "HBoxModel",
      "_view_count": null,
      "_view_module": "@jupyter-widgets/controls",
      "_view_module_version": "1.5.0",
      "_view_name": "HBoxView",
      "box_style": "",
      "children": [
       "IPY_MODEL_130207d2bbe647769ee4fc19e12236b1",
       "IPY_MODEL_9b8f0450f04f4578af796545990d1544",
       "IPY_MODEL_13e4df179b2e4bd2abe74e368902646c"
      ],
      "layout": "IPY_MODEL_06cb007159754b6a93b331203feaf986"
     }
    },
    "251bea7a0829475ba75b24f33177b5cf": {
     "model_module": "@jupyter-widgets/controls",
     "model_module_version": "1.5.0",
     "model_name": "DescriptionStyleModel",
     "state": {
      "_model_module": "@jupyter-widgets/controls",
      "_model_module_version": "1.5.0",
      "_model_name": "DescriptionStyleModel",
      "_view_count": null,
      "_view_module": "@jupyter-widgets/base",
      "_view_module_version": "1.2.0",
      "_view_name": "StyleView",
      "description_width": ""
     }
    },
    "259c5bf2b5564bfea6ceb1bb9501cef1": {
     "model_module": "@jupyter-widgets/controls",
     "model_module_version": "1.5.0",
     "model_name": "HBoxModel",
     "state": {
      "_dom_classes": [],
      "_model_module": "@jupyter-widgets/controls",
      "_model_module_version": "1.5.0",
      "_model_name": "HBoxModel",
      "_view_count": null,
      "_view_module": "@jupyter-widgets/controls",
      "_view_module_version": "1.5.0",
      "_view_name": "HBoxView",
      "box_style": "",
      "children": [
       "IPY_MODEL_0160568bce3348ca9e327f58792e7341",
       "IPY_MODEL_b4e6deb854fc430cb60a41284af0a14b",
       "IPY_MODEL_de0fff26d2ff43ffb2d38e8285bc8294"
      ],
      "layout": "IPY_MODEL_76613580a7f24d7b96dc28cc2bb345a0"
     }
    },
    "25a49f8615344865a29e9f8a7fd8035f": {
     "model_module": "@jupyter-widgets/controls",
     "model_module_version": "1.5.0",
     "model_name": "DescriptionStyleModel",
     "state": {
      "_model_module": "@jupyter-widgets/controls",
      "_model_module_version": "1.5.0",
      "_model_name": "DescriptionStyleModel",
      "_view_count": null,
      "_view_module": "@jupyter-widgets/base",
      "_view_module_version": "1.2.0",
      "_view_name": "StyleView",
      "description_width": ""
     }
    },
    "2a432e470a32418d8d3d223751ddd489": {
     "model_module": "@jupyter-widgets/controls",
     "model_module_version": "1.5.0",
     "model_name": "ProgressStyleModel",
     "state": {
      "_model_module": "@jupyter-widgets/controls",
      "_model_module_version": "1.5.0",
      "_model_name": "ProgressStyleModel",
      "_view_count": null,
      "_view_module": "@jupyter-widgets/base",
      "_view_module_version": "1.2.0",
      "_view_name": "StyleView",
      "bar_color": null,
      "description_width": ""
     }
    },
    "2ecf20b9f06048f387ed16d0b38f77ac": {
     "model_module": "@jupyter-widgets/controls",
     "model_module_version": "1.5.0",
     "model_name": "FloatProgressModel",
     "state": {
      "_dom_classes": [],
      "_model_module": "@jupyter-widgets/controls",
      "_model_module_version": "1.5.0",
      "_model_name": "FloatProgressModel",
      "_view_count": null,
      "_view_module": "@jupyter-widgets/controls",
      "_view_module_version": "1.5.0",
      "_view_name": "ProgressView",
      "bar_style": "success",
      "description": "",
      "description_tooltip": null,
      "layout": "IPY_MODEL_47e3c1a7e3c24232b0eb0755c53fc5e8",
      "max": 6812,
      "min": 0,
      "orientation": "horizontal",
      "style": "IPY_MODEL_7cb88ea6707841aeb8274d4611692b7a",
      "value": 6812
     }
    },
    "3337d088c6ef4d1a973775d345f65272": {
     "model_module": "@jupyter-widgets/base",
     "model_module_version": "1.2.0",
     "model_name": "LayoutModel",
     "state": {
      "_model_module": "@jupyter-widgets/base",
      "_model_module_version": "1.2.0",
      "_model_name": "LayoutModel",
      "_view_count": null,
      "_view_module": "@jupyter-widgets/base",
      "_view_module_version": "1.2.0",
      "_view_name": "LayoutView",
      "align_content": null,
      "align_items": null,
      "align_self": null,
      "border": null,
      "bottom": null,
      "display": null,
      "flex": null,
      "flex_flow": null,
      "grid_area": null,
      "grid_auto_columns": null,
      "grid_auto_flow": null,
      "grid_auto_rows": null,
      "grid_column": null,
      "grid_gap": null,
      "grid_row": null,
      "grid_template_areas": null,
      "grid_template_columns": null,
      "grid_template_rows": null,
      "height": null,
      "justify_content": null,
      "justify_items": null,
      "left": null,
      "margin": null,
      "max_height": null,
      "max_width": null,
      "min_height": null,
      "min_width": null,
      "object_fit": null,
      "object_position": null,
      "order": null,
      "overflow": null,
      "overflow_x": null,
      "overflow_y": null,
      "padding": null,
      "right": null,
      "top": null,
      "visibility": null,
      "width": null
     }
    },
    "3a7dc51851194c7a878e9063e23df74a": {
     "model_module": "@jupyter-widgets/base",
     "model_module_version": "1.2.0",
     "model_name": "LayoutModel",
     "state": {
      "_model_module": "@jupyter-widgets/base",
      "_model_module_version": "1.2.0",
      "_model_name": "LayoutModel",
      "_view_count": null,
      "_view_module": "@jupyter-widgets/base",
      "_view_module_version": "1.2.0",
      "_view_name": "LayoutView",
      "align_content": null,
      "align_items": null,
      "align_self": null,
      "border": null,
      "bottom": null,
      "display": null,
      "flex": null,
      "flex_flow": null,
      "grid_area": null,
      "grid_auto_columns": null,
      "grid_auto_flow": null,
      "grid_auto_rows": null,
      "grid_column": null,
      "grid_gap": null,
      "grid_row": null,
      "grid_template_areas": null,
      "grid_template_columns": null,
      "grid_template_rows": null,
      "height": null,
      "justify_content": null,
      "justify_items": null,
      "left": null,
      "margin": null,
      "max_height": null,
      "max_width": null,
      "min_height": null,
      "min_width": null,
      "object_fit": null,
      "object_position": null,
      "order": null,
      "overflow": null,
      "overflow_x": null,
      "overflow_y": null,
      "padding": null,
      "right": null,
      "top": null,
      "visibility": null,
      "width": null
     }
    },
    "3bee3da2ffda467287efa6909b3117ac": {
     "model_module": "@jupyter-widgets/controls",
     "model_module_version": "1.5.0",
     "model_name": "ProgressStyleModel",
     "state": {
      "_model_module": "@jupyter-widgets/controls",
      "_model_module_version": "1.5.0",
      "_model_name": "ProgressStyleModel",
      "_view_count": null,
      "_view_module": "@jupyter-widgets/base",
      "_view_module_version": "1.2.0",
      "_view_name": "StyleView",
      "bar_color": null,
      "description_width": ""
     }
    },
    "3c77f2578ab1465989d81f911d5ce921": {
     "model_module": "@jupyter-widgets/controls",
     "model_module_version": "1.5.0",
     "model_name": "ProgressStyleModel",
     "state": {
      "_model_module": "@jupyter-widgets/controls",
      "_model_module_version": "1.5.0",
      "_model_name": "ProgressStyleModel",
      "_view_count": null,
      "_view_module": "@jupyter-widgets/base",
      "_view_module_version": "1.2.0",
      "_view_name": "StyleView",
      "bar_color": null,
      "description_width": ""
     }
    },
    "3d28823a88804461b88d20c4a71f6f16": {
     "model_module": "@jupyter-widgets/base",
     "model_module_version": "1.2.0",
     "model_name": "LayoutModel",
     "state": {
      "_model_module": "@jupyter-widgets/base",
      "_model_module_version": "1.2.0",
      "_model_name": "LayoutModel",
      "_view_count": null,
      "_view_module": "@jupyter-widgets/base",
      "_view_module_version": "1.2.0",
      "_view_name": "LayoutView",
      "align_content": null,
      "align_items": null,
      "align_self": null,
      "border": null,
      "bottom": null,
      "display": null,
      "flex": null,
      "flex_flow": null,
      "grid_area": null,
      "grid_auto_columns": null,
      "grid_auto_flow": null,
      "grid_auto_rows": null,
      "grid_column": null,
      "grid_gap": null,
      "grid_row": null,
      "grid_template_areas": null,
      "grid_template_columns": null,
      "grid_template_rows": null,
      "height": null,
      "justify_content": null,
      "justify_items": null,
      "left": null,
      "margin": null,
      "max_height": null,
      "max_width": null,
      "min_height": null,
      "min_width": null,
      "object_fit": null,
      "object_position": null,
      "order": null,
      "overflow": null,
      "overflow_x": null,
      "overflow_y": null,
      "padding": null,
      "right": null,
      "top": null,
      "visibility": null,
      "width": null
     }
    },
    "3d57843302174bfa9d623b6e7d0226f4": {
     "model_module": "@jupyter-widgets/base",
     "model_module_version": "1.2.0",
     "model_name": "LayoutModel",
     "state": {
      "_model_module": "@jupyter-widgets/base",
      "_model_module_version": "1.2.0",
      "_model_name": "LayoutModel",
      "_view_count": null,
      "_view_module": "@jupyter-widgets/base",
      "_view_module_version": "1.2.0",
      "_view_name": "LayoutView",
      "align_content": null,
      "align_items": null,
      "align_self": null,
      "border": null,
      "bottom": null,
      "display": null,
      "flex": null,
      "flex_flow": null,
      "grid_area": null,
      "grid_auto_columns": null,
      "grid_auto_flow": null,
      "grid_auto_rows": null,
      "grid_column": null,
      "grid_gap": null,
      "grid_row": null,
      "grid_template_areas": null,
      "grid_template_columns": null,
      "grid_template_rows": null,
      "height": null,
      "justify_content": null,
      "justify_items": null,
      "left": null,
      "margin": null,
      "max_height": null,
      "max_width": null,
      "min_height": null,
      "min_width": null,
      "object_fit": null,
      "object_position": null,
      "order": null,
      "overflow": null,
      "overflow_x": null,
      "overflow_y": null,
      "padding": null,
      "right": null,
      "top": null,
      "visibility": null,
      "width": null
     }
    },
    "3ed70a71b19d4dcbaaec4837b8734e5c": {
     "model_module": "@jupyter-widgets/controls",
     "model_module_version": "1.5.0",
     "model_name": "HTMLModel",
     "state": {
      "_dom_classes": [],
      "_model_module": "@jupyter-widgets/controls",
      "_model_module_version": "1.5.0",
      "_model_name": "HTMLModel",
      "_view_count": null,
      "_view_module": "@jupyter-widgets/controls",
      "_view_module_version": "1.5.0",
      "_view_name": "HTMLView",
      "description": "",
      "description_tooltip": null,
      "layout": "IPY_MODEL_3d28823a88804461b88d20c4a71f6f16",
      "placeholder": "​",
      "style": "IPY_MODEL_f65a84702b3c40e59b71e40a5e251a4e",
      "value": " 258M/258M [00:00&lt;00:00, 289MB/s]"
     }
    },
    "3fb7855449e242c49605542be9b69f69": {
     "model_module": "@jupyter-widgets/controls",
     "model_module_version": "1.5.0",
     "model_name": "FloatProgressModel",
     "state": {
      "_dom_classes": [],
      "_model_module": "@jupyter-widgets/controls",
      "_model_module_version": "1.5.0",
      "_model_name": "FloatProgressModel",
      "_view_count": null,
      "_view_module": "@jupyter-widgets/controls",
      "_view_module_version": "1.5.0",
      "_view_name": "ProgressView",
      "bar_style": "success",
      "description": "",
      "description_tooltip": null,
      "layout": "IPY_MODEL_5e7913281f1d40f6b611ea711800fd11",
      "max": 254410930,
      "min": 0,
      "orientation": "horizontal",
      "style": "IPY_MODEL_e805cf63ebc347dc8228e30f745da284",
      "value": 254410930
     }
    },
    "47e3c1a7e3c24232b0eb0755c53fc5e8": {
     "model_module": "@jupyter-widgets/base",
     "model_module_version": "1.2.0",
     "model_name": "LayoutModel",
     "state": {
      "_model_module": "@jupyter-widgets/base",
      "_model_module_version": "1.2.0",
      "_model_name": "LayoutModel",
      "_view_count": null,
      "_view_module": "@jupyter-widgets/base",
      "_view_module_version": "1.2.0",
      "_view_name": "LayoutView",
      "align_content": null,
      "align_items": null,
      "align_self": null,
      "border": null,
      "bottom": null,
      "display": null,
      "flex": null,
      "flex_flow": null,
      "grid_area": null,
      "grid_auto_columns": null,
      "grid_auto_flow": null,
      "grid_auto_rows": null,
      "grid_column": null,
      "grid_gap": null,
      "grid_row": null,
      "grid_template_areas": null,
      "grid_template_columns": null,
      "grid_template_rows": null,
      "height": null,
      "justify_content": null,
      "justify_items": null,
      "left": null,
      "margin": null,
      "max_height": null,
      "max_width": null,
      "min_height": null,
      "min_width": null,
      "object_fit": null,
      "object_position": null,
      "order": null,
      "overflow": null,
      "overflow_x": null,
      "overflow_y": null,
      "padding": null,
      "right": null,
      "top": null,
      "visibility": null,
      "width": null
     }
    },
    "4883ae50cb7c45278b62b04d5351abaf": {
     "model_module": "@jupyter-widgets/controls",
     "model_module_version": "1.5.0",
     "model_name": "DescriptionStyleModel",
     "state": {
      "_model_module": "@jupyter-widgets/controls",
      "_model_module_version": "1.5.0",
      "_model_name": "DescriptionStyleModel",
      "_view_count": null,
      "_view_module": "@jupyter-widgets/base",
      "_view_module_version": "1.2.0",
      "_view_name": "StyleView",
      "description_width": ""
     }
    },
    "48ce51d0b3f34916be1625e27993e7b5": {
     "model_module": "@jupyter-widgets/base",
     "model_module_version": "1.2.0",
     "model_name": "LayoutModel",
     "state": {
      "_model_module": "@jupyter-widgets/base",
      "_model_module_version": "1.2.0",
      "_model_name": "LayoutModel",
      "_view_count": null,
      "_view_module": "@jupyter-widgets/base",
      "_view_module_version": "1.2.0",
      "_view_name": "LayoutView",
      "align_content": null,
      "align_items": null,
      "align_self": null,
      "border": null,
      "bottom": null,
      "display": null,
      "flex": null,
      "flex_flow": null,
      "grid_area": null,
      "grid_auto_columns": null,
      "grid_auto_flow": null,
      "grid_auto_rows": null,
      "grid_column": null,
      "grid_gap": null,
      "grid_row": null,
      "grid_template_areas": null,
      "grid_template_columns": null,
      "grid_template_rows": null,
      "height": null,
      "justify_content": null,
      "justify_items": null,
      "left": null,
      "margin": null,
      "max_height": null,
      "max_width": null,
      "min_height": null,
      "min_width": null,
      "object_fit": null,
      "object_position": null,
      "order": null,
      "overflow": null,
      "overflow_x": null,
      "overflow_y": null,
      "padding": null,
      "right": null,
      "top": null,
      "visibility": null,
      "width": null
     }
    },
    "497566313eb34ef4b959cc3def9ddf1a": {
     "model_module": "@jupyter-widgets/base",
     "model_module_version": "1.2.0",
     "model_name": "LayoutModel",
     "state": {
      "_model_module": "@jupyter-widgets/base",
      "_model_module_version": "1.2.0",
      "_model_name": "LayoutModel",
      "_view_count": null,
      "_view_module": "@jupyter-widgets/base",
      "_view_module_version": "1.2.0",
      "_view_name": "LayoutView",
      "align_content": null,
      "align_items": null,
      "align_self": null,
      "border": null,
      "bottom": null,
      "display": null,
      "flex": null,
      "flex_flow": null,
      "grid_area": null,
      "grid_auto_columns": null,
      "grid_auto_flow": null,
      "grid_auto_rows": null,
      "grid_column": null,
      "grid_gap": null,
      "grid_row": null,
      "grid_template_areas": null,
      "grid_template_columns": null,
      "grid_template_rows": null,
      "height": null,
      "justify_content": null,
      "justify_items": null,
      "left": null,
      "margin": null,
      "max_height": null,
      "max_width": null,
      "min_height": null,
      "min_width": null,
      "object_fit": null,
      "object_position": null,
      "order": null,
      "overflow": null,
      "overflow_x": null,
      "overflow_y": null,
      "padding": null,
      "right": null,
      "top": null,
      "visibility": null,
      "width": null
     }
    },
    "4ce8e3f912a542b092737e43d5c3b235": {
     "model_module": "@jupyter-widgets/controls",
     "model_module_version": "1.5.0",
     "model_name": "DescriptionStyleModel",
     "state": {
      "_model_module": "@jupyter-widgets/controls",
      "_model_module_version": "1.5.0",
      "_model_name": "DescriptionStyleModel",
      "_view_count": null,
      "_view_module": "@jupyter-widgets/base",
      "_view_module_version": "1.2.0",
      "_view_name": "StyleView",
      "description_width": ""
     }
    },
    "5204db9485ac4dcf8c165c9e50953926": {
     "model_module": "@jupyter-widgets/base",
     "model_module_version": "1.2.0",
     "model_name": "LayoutModel",
     "state": {
      "_model_module": "@jupyter-widgets/base",
      "_model_module_version": "1.2.0",
      "_model_name": "LayoutModel",
      "_view_count": null,
      "_view_module": "@jupyter-widgets/base",
      "_view_module_version": "1.2.0",
      "_view_name": "LayoutView",
      "align_content": null,
      "align_items": null,
      "align_self": null,
      "border": null,
      "bottom": null,
      "display": null,
      "flex": null,
      "flex_flow": null,
      "grid_area": null,
      "grid_auto_columns": null,
      "grid_auto_flow": null,
      "grid_auto_rows": null,
      "grid_column": null,
      "grid_gap": null,
      "grid_row": null,
      "grid_template_areas": null,
      "grid_template_columns": null,
      "grid_template_rows": null,
      "height": null,
      "justify_content": null,
      "justify_items": null,
      "left": null,
      "margin": null,
      "max_height": null,
      "max_width": null,
      "min_height": null,
      "min_width": null,
      "object_fit": null,
      "object_position": null,
      "order": null,
      "overflow": null,
      "overflow_x": null,
      "overflow_y": null,
      "padding": null,
      "right": null,
      "top": null,
      "visibility": null,
      "width": null
     }
    },
    "52cbb40c9d8e4faa8348f4cea4e3a15d": {
     "model_module": "@jupyter-widgets/controls",
     "model_module_version": "1.5.0",
     "model_name": "ProgressStyleModel",
     "state": {
      "_model_module": "@jupyter-widgets/controls",
      "_model_module_version": "1.5.0",
      "_model_name": "ProgressStyleModel",
      "_view_count": null,
      "_view_module": "@jupyter-widgets/base",
      "_view_module_version": "1.2.0",
      "_view_name": "StyleView",
      "bar_color": null,
      "description_width": ""
     }
    },
    "564b0435aba847bf8dc03f86e08216ba": {
     "model_module": "@jupyter-widgets/base",
     "model_module_version": "1.2.0",
     "model_name": "LayoutModel",
     "state": {
      "_model_module": "@jupyter-widgets/base",
      "_model_module_version": "1.2.0",
      "_model_name": "LayoutModel",
      "_view_count": null,
      "_view_module": "@jupyter-widgets/base",
      "_view_module_version": "1.2.0",
      "_view_name": "LayoutView",
      "align_content": null,
      "align_items": null,
      "align_self": null,
      "border": null,
      "bottom": null,
      "display": null,
      "flex": null,
      "flex_flow": null,
      "grid_area": null,
      "grid_auto_columns": null,
      "grid_auto_flow": null,
      "grid_auto_rows": null,
      "grid_column": null,
      "grid_gap": null,
      "grid_row": null,
      "grid_template_areas": null,
      "grid_template_columns": null,
      "grid_template_rows": null,
      "height": null,
      "justify_content": null,
      "justify_items": null,
      "left": null,
      "margin": null,
      "max_height": null,
      "max_width": null,
      "min_height": null,
      "min_width": null,
      "object_fit": null,
      "object_position": null,
      "order": null,
      "overflow": null,
      "overflow_x": null,
      "overflow_y": null,
      "padding": null,
      "right": null,
      "top": null,
      "visibility": null,
      "width": null
     }
    },
    "5698cd3d266d4108a5f5f21fe4cbbdbc": {
     "model_module": "@jupyter-widgets/controls",
     "model_module_version": "1.5.0",
     "model_name": "DescriptionStyleModel",
     "state": {
      "_model_module": "@jupyter-widgets/controls",
      "_model_module_version": "1.5.0",
      "_model_name": "DescriptionStyleModel",
      "_view_count": null,
      "_view_module": "@jupyter-widgets/base",
      "_view_module_version": "1.2.0",
      "_view_name": "StyleView",
      "description_width": ""
     }
    },
    "5925f9e65b07416fbe5085af5a5e3f63": {
     "model_module": "@jupyter-widgets/base",
     "model_module_version": "1.2.0",
     "model_name": "LayoutModel",
     "state": {
      "_model_module": "@jupyter-widgets/base",
      "_model_module_version": "1.2.0",
      "_model_name": "LayoutModel",
      "_view_count": null,
      "_view_module": "@jupyter-widgets/base",
      "_view_module_version": "1.2.0",
      "_view_name": "LayoutView",
      "align_content": null,
      "align_items": null,
      "align_self": null,
      "border": null,
      "bottom": null,
      "display": null,
      "flex": null,
      "flex_flow": null,
      "grid_area": null,
      "grid_auto_columns": null,
      "grid_auto_flow": null,
      "grid_auto_rows": null,
      "grid_column": null,
      "grid_gap": null,
      "grid_row": null,
      "grid_template_areas": null,
      "grid_template_columns": null,
      "grid_template_rows": null,
      "height": null,
      "justify_content": null,
      "justify_items": null,
      "left": null,
      "margin": null,
      "max_height": null,
      "max_width": null,
      "min_height": null,
      "min_width": null,
      "object_fit": null,
      "object_position": null,
      "order": null,
      "overflow": null,
      "overflow_x": null,
      "overflow_y": null,
      "padding": null,
      "right": null,
      "top": null,
      "visibility": null,
      "width": null
     }
    },
    "5942db3c5dac438f939458730d4ee96c": {
     "model_module": "@jupyter-widgets/controls",
     "model_module_version": "1.5.0",
     "model_name": "DescriptionStyleModel",
     "state": {
      "_model_module": "@jupyter-widgets/controls",
      "_model_module_version": "1.5.0",
      "_model_name": "DescriptionStyleModel",
      "_view_count": null,
      "_view_module": "@jupyter-widgets/base",
      "_view_module_version": "1.2.0",
      "_view_name": "StyleView",
      "description_width": ""
     }
    },
    "59c02f9b11334f7196b2c6f1b914497f": {
     "model_module": "@jupyter-widgets/base",
     "model_module_version": "1.2.0",
     "model_name": "LayoutModel",
     "state": {
      "_model_module": "@jupyter-widgets/base",
      "_model_module_version": "1.2.0",
      "_model_name": "LayoutModel",
      "_view_count": null,
      "_view_module": "@jupyter-widgets/base",
      "_view_module_version": "1.2.0",
      "_view_name": "LayoutView",
      "align_content": null,
      "align_items": null,
      "align_self": null,
      "border": null,
      "bottom": null,
      "display": null,
      "flex": null,
      "flex_flow": null,
      "grid_area": null,
      "grid_auto_columns": null,
      "grid_auto_flow": null,
      "grid_auto_rows": null,
      "grid_column": null,
      "grid_gap": null,
      "grid_row": null,
      "grid_template_areas": null,
      "grid_template_columns": null,
      "grid_template_rows": null,
      "height": null,
      "justify_content": null,
      "justify_items": null,
      "left": null,
      "margin": null,
      "max_height": null,
      "max_width": null,
      "min_height": null,
      "min_width": null,
      "object_fit": null,
      "object_position": null,
      "order": null,
      "overflow": null,
      "overflow_x": null,
      "overflow_y": null,
      "padding": null,
      "right": null,
      "top": null,
      "visibility": null,
      "width": null
     }
    },
    "5a4b304f011042f0b75d1d1861290b04": {
     "model_module": "@jupyter-widgets/controls",
     "model_module_version": "1.5.0",
     "model_name": "FloatProgressModel",
     "state": {
      "_dom_classes": [],
      "_model_module": "@jupyter-widgets/controls",
      "_model_module_version": "1.5.0",
      "_model_name": "FloatProgressModel",
      "_view_count": null,
      "_view_module": "@jupyter-widgets/controls",
      "_view_module_version": "1.5.0",
      "_view_name": "ProgressView",
      "bar_style": "success",
      "description": "",
      "description_tooltip": null,
      "layout": "IPY_MODEL_3a7dc51851194c7a878e9063e23df74a",
      "max": 480000128,
      "min": 0,
      "orientation": "horizontal",
      "style": "IPY_MODEL_9a42b455f1c64b89b6dec2c11387c2f4",
      "value": 480000128
     }
    },
    "5cfc8f231ecc42e5bde4781d6233339c": {
     "model_module": "@jupyter-widgets/base",
     "model_module_version": "1.2.0",
     "model_name": "LayoutModel",
     "state": {
      "_model_module": "@jupyter-widgets/base",
      "_model_module_version": "1.2.0",
      "_model_name": "LayoutModel",
      "_view_count": null,
      "_view_module": "@jupyter-widgets/base",
      "_view_module_version": "1.2.0",
      "_view_name": "LayoutView",
      "align_content": null,
      "align_items": null,
      "align_self": null,
      "border": null,
      "bottom": null,
      "display": null,
      "flex": null,
      "flex_flow": null,
      "grid_area": null,
      "grid_auto_columns": null,
      "grid_auto_flow": null,
      "grid_auto_rows": null,
      "grid_column": null,
      "grid_gap": null,
      "grid_row": null,
      "grid_template_areas": null,
      "grid_template_columns": null,
      "grid_template_rows": null,
      "height": null,
      "justify_content": null,
      "justify_items": null,
      "left": null,
      "margin": null,
      "max_height": null,
      "max_width": null,
      "min_height": null,
      "min_width": null,
      "object_fit": null,
      "object_position": null,
      "order": null,
      "overflow": null,
      "overflow_x": null,
      "overflow_y": null,
      "padding": null,
      "right": null,
      "top": null,
      "visibility": null,
      "width": null
     }
    },
    "5e7913281f1d40f6b611ea711800fd11": {
     "model_module": "@jupyter-widgets/base",
     "model_module_version": "1.2.0",
     "model_name": "LayoutModel",
     "state": {
      "_model_module": "@jupyter-widgets/base",
      "_model_module_version": "1.2.0",
      "_model_name": "LayoutModel",
      "_view_count": null,
      "_view_module": "@jupyter-widgets/base",
      "_view_module_version": "1.2.0",
      "_view_name": "LayoutView",
      "align_content": null,
      "align_items": null,
      "align_self": null,
      "border": null,
      "bottom": null,
      "display": null,
      "flex": null,
      "flex_flow": null,
      "grid_area": null,
      "grid_auto_columns": null,
      "grid_auto_flow": null,
      "grid_auto_rows": null,
      "grid_column": null,
      "grid_gap": null,
      "grid_row": null,
      "grid_template_areas": null,
      "grid_template_columns": null,
      "grid_template_rows": null,
      "height": null,
      "justify_content": null,
      "justify_items": null,
      "left": null,
      "margin": null,
      "max_height": null,
      "max_width": null,
      "min_height": null,
      "min_width": null,
      "object_fit": null,
      "object_position": null,
      "order": null,
      "overflow": null,
      "overflow_x": null,
      "overflow_y": null,
      "padding": null,
      "right": null,
      "top": null,
      "visibility": null,
      "width": null
     }
    },
    "643a204bb82b4da0975fb8550ccd1ac3": {
     "model_module": "@jupyter-widgets/base",
     "model_module_version": "1.2.0",
     "model_name": "LayoutModel",
     "state": {
      "_model_module": "@jupyter-widgets/base",
      "_model_module_version": "1.2.0",
      "_model_name": "LayoutModel",
      "_view_count": null,
      "_view_module": "@jupyter-widgets/base",
      "_view_module_version": "1.2.0",
      "_view_name": "LayoutView",
      "align_content": null,
      "align_items": null,
      "align_self": null,
      "border": null,
      "bottom": null,
      "display": null,
      "flex": null,
      "flex_flow": null,
      "grid_area": null,
      "grid_auto_columns": null,
      "grid_auto_flow": null,
      "grid_auto_rows": null,
      "grid_column": null,
      "grid_gap": null,
      "grid_row": null,
      "grid_template_areas": null,
      "grid_template_columns": null,
      "grid_template_rows": null,
      "height": null,
      "justify_content": null,
      "justify_items": null,
      "left": null,
      "margin": null,
      "max_height": null,
      "max_width": null,
      "min_height": null,
      "min_width": null,
      "object_fit": null,
      "object_position": null,
      "order": null,
      "overflow": null,
      "overflow_x": null,
      "overflow_y": null,
      "padding": null,
      "right": null,
      "top": null,
      "visibility": null,
      "width": null
     }
    },
    "672a6421e05443bdaa22b083da9704e9": {
     "model_module": "@jupyter-widgets/controls",
     "model_module_version": "1.5.0",
     "model_name": "HTMLModel",
     "state": {
      "_dom_classes": [],
      "_model_module": "@jupyter-widgets/controls",
      "_model_module_version": "1.5.0",
      "_model_name": "HTMLModel",
      "_view_count": null,
      "_view_module": "@jupyter-widgets/controls",
      "_view_module_version": "1.5.0",
      "_view_name": "HTMLView",
      "description": "",
      "description_tooltip": null,
      "layout": "IPY_MODEL_1d79713026f64b9082f15fe26e9f7855",
      "placeholder": "​",
      "style": "IPY_MODEL_5942db3c5dac438f939458730d4ee96c",
      "value": "train-00000-of-00004.parquet: 100%"
     }
    },
    "6a39c65bce0e47efa93c461028b4c2ce": {
     "model_module": "@jupyter-widgets/controls",
     "model_module_version": "1.5.0",
     "model_name": "HBoxModel",
     "state": {
      "_dom_classes": [],
      "_model_module": "@jupyter-widgets/controls",
      "_model_module_version": "1.5.0",
      "_model_name": "HBoxModel",
      "_view_count": null,
      "_view_module": "@jupyter-widgets/controls",
      "_view_module_version": "1.5.0",
      "_view_name": "HBoxView",
      "box_style": "",
      "children": [
       "IPY_MODEL_21c9b70a9c0240cea4e8e3248db3f6b8",
       "IPY_MODEL_fdbb241b88af45a1bda1e573bd5009c6",
       "IPY_MODEL_ff8f2d77476c4f1ea96c7f308f87f17e"
      ],
      "layout": "IPY_MODEL_497566313eb34ef4b959cc3def9ddf1a"
     }
    },
    "6a42a44506364620bb8b383c940f2459": {
     "model_module": "@jupyter-widgets/controls",
     "model_module_version": "1.5.0",
     "model_name": "HTMLModel",
     "state": {
      "_dom_classes": [],
      "_model_module": "@jupyter-widgets/controls",
      "_model_module_version": "1.5.0",
      "_model_name": "HTMLModel",
      "_view_count": null,
      "_view_module": "@jupyter-widgets/controls",
      "_view_module_version": "1.5.0",
      "_view_name": "HTMLView",
      "description": "",
      "description_tooltip": null,
      "layout": "IPY_MODEL_e753f9c467594d459d19ea69c7bbd2f5",
      "placeholder": "​",
      "style": "IPY_MODEL_d78cf71eac07466e8755ffb59e722d24",
      "value": "(…)love-wiki-gigaword-300.model.vectors.npy: 100%"
     }
    },
    "6ea925e0fc274b34b6db1eed6bf87877": {
     "model_module": "@jupyter-widgets/base",
     "model_module_version": "1.2.0",
     "model_name": "LayoutModel",
     "state": {
      "_model_module": "@jupyter-widgets/base",
      "_model_module_version": "1.2.0",
      "_model_name": "LayoutModel",
      "_view_count": null,
      "_view_module": "@jupyter-widgets/base",
      "_view_module_version": "1.2.0",
      "_view_name": "LayoutView",
      "align_content": null,
      "align_items": null,
      "align_self": null,
      "border": null,
      "bottom": null,
      "display": null,
      "flex": null,
      "flex_flow": null,
      "grid_area": null,
      "grid_auto_columns": null,
      "grid_auto_flow": null,
      "grid_auto_rows": null,
      "grid_column": null,
      "grid_gap": null,
      "grid_row": null,
      "grid_template_areas": null,
      "grid_template_columns": null,
      "grid_template_rows": null,
      "height": null,
      "justify_content": null,
      "justify_items": null,
      "left": null,
      "margin": null,
      "max_height": null,
      "max_width": null,
      "min_height": null,
      "min_width": null,
      "object_fit": null,
      "object_position": null,
      "order": null,
      "overflow": null,
      "overflow_x": null,
      "overflow_y": null,
      "padding": null,
      "right": null,
      "top": null,
      "visibility": null,
      "width": null
     }
    },
    "72ae196d684d48be941be8d3bc33c108": {
     "model_module": "@jupyter-widgets/controls",
     "model_module_version": "1.5.0",
     "model_name": "HBoxModel",
     "state": {
      "_dom_classes": [],
      "_model_module": "@jupyter-widgets/controls",
      "_model_module_version": "1.5.0",
      "_model_name": "HBoxModel",
      "_view_count": null,
      "_view_module": "@jupyter-widgets/controls",
      "_view_module_version": "1.5.0",
      "_view_name": "HBoxView",
      "box_style": "",
      "children": [
       "IPY_MODEL_a23d8fcfb09d4bee9969a93d81b2dc9b",
       "IPY_MODEL_73bba67b749b4e9caac70263c1b36667",
       "IPY_MODEL_3ed70a71b19d4dcbaaec4837b8734e5c"
      ],
      "layout": "IPY_MODEL_6ea925e0fc274b34b6db1eed6bf87877"
     }
    },
    "73bba67b749b4e9caac70263c1b36667": {
     "model_module": "@jupyter-widgets/controls",
     "model_module_version": "1.5.0",
     "model_name": "FloatProgressModel",
     "state": {
      "_dom_classes": [],
      "_model_module": "@jupyter-widgets/controls",
      "_model_module_version": "1.5.0",
      "_model_name": "FloatProgressModel",
      "_view_count": null,
      "_view_module": "@jupyter-widgets/controls",
      "_view_module_version": "1.5.0",
      "_view_name": "ProgressView",
      "bar_style": "success",
      "description": "",
      "description_tooltip": null,
      "layout": "IPY_MODEL_1e95e1fafaf5475fbffb3b3de89d4ee5",
      "max": 258363554,
      "min": 0,
      "orientation": "horizontal",
      "style": "IPY_MODEL_09ef2343e15f4f8ba35371be6bf0356f",
      "value": 258363554
     }
    },
    "74134eec82624622b2917432f9324c0c": {
     "model_module": "@jupyter-widgets/controls",
     "model_module_version": "1.5.0",
     "model_name": "DescriptionStyleModel",
     "state": {
      "_model_module": "@jupyter-widgets/controls",
      "_model_module_version": "1.5.0",
      "_model_name": "DescriptionStyleModel",
      "_view_count": null,
      "_view_module": "@jupyter-widgets/base",
      "_view_module_version": "1.2.0",
      "_view_name": "StyleView",
      "description_width": ""
     }
    },
    "76613580a7f24d7b96dc28cc2bb345a0": {
     "model_module": "@jupyter-widgets/base",
     "model_module_version": "1.2.0",
     "model_name": "LayoutModel",
     "state": {
      "_model_module": "@jupyter-widgets/base",
      "_model_module_version": "1.2.0",
      "_model_name": "LayoutModel",
      "_view_count": null,
      "_view_module": "@jupyter-widgets/base",
      "_view_module_version": "1.2.0",
      "_view_name": "LayoutView",
      "align_content": null,
      "align_items": null,
      "align_self": null,
      "border": null,
      "bottom": null,
      "display": null,
      "flex": null,
      "flex_flow": null,
      "grid_area": null,
      "grid_auto_columns": null,
      "grid_auto_flow": null,
      "grid_auto_rows": null,
      "grid_column": null,
      "grid_gap": null,
      "grid_row": null,
      "grid_template_areas": null,
      "grid_template_columns": null,
      "grid_template_rows": null,
      "height": null,
      "justify_content": null,
      "justify_items": null,
      "left": null,
      "margin": null,
      "max_height": null,
      "max_width": null,
      "min_height": null,
      "min_width": null,
      "object_fit": null,
      "object_position": null,
      "order": null,
      "overflow": null,
      "overflow_x": null,
      "overflow_y": null,
      "padding": null,
      "right": null,
      "top": null,
      "visibility": null,
      "width": null
     }
    },
    "77a338e2c9bc41489f845b4bfa0a7019": {
     "model_module": "@jupyter-widgets/base",
     "model_module_version": "1.2.0",
     "model_name": "LayoutModel",
     "state": {
      "_model_module": "@jupyter-widgets/base",
      "_model_module_version": "1.2.0",
      "_model_name": "LayoutModel",
      "_view_count": null,
      "_view_module": "@jupyter-widgets/base",
      "_view_module_version": "1.2.0",
      "_view_name": "LayoutView",
      "align_content": null,
      "align_items": null,
      "align_self": null,
      "border": null,
      "bottom": null,
      "display": null,
      "flex": null,
      "flex_flow": null,
      "grid_area": null,
      "grid_auto_columns": null,
      "grid_auto_flow": null,
      "grid_auto_rows": null,
      "grid_column": null,
      "grid_gap": null,
      "grid_row": null,
      "grid_template_areas": null,
      "grid_template_columns": null,
      "grid_template_rows": null,
      "height": null,
      "justify_content": null,
      "justify_items": null,
      "left": null,
      "margin": null,
      "max_height": null,
      "max_width": null,
      "min_height": null,
      "min_width": null,
      "object_fit": null,
      "object_position": null,
      "order": null,
      "overflow": null,
      "overflow_x": null,
      "overflow_y": null,
      "padding": null,
      "right": null,
      "top": null,
      "visibility": null,
      "width": null
     }
    },
    "7878c39129cc4b099dfa3d8bce143ffa": {
     "model_module": "@jupyter-widgets/controls",
     "model_module_version": "1.5.0",
     "model_name": "FloatProgressModel",
     "state": {
      "_dom_classes": [],
      "_model_module": "@jupyter-widgets/controls",
      "_model_module_version": "1.5.0",
      "_model_name": "FloatProgressModel",
      "_view_count": null,
      "_view_module": "@jupyter-widgets/controls",
      "_view_module_version": "1.5.0",
      "_view_name": "ProgressView",
      "bar_style": "success",
      "description": "",
      "description_tooltip": null,
      "layout": "IPY_MODEL_ed3c1db902d24315bedacf0ef19905b2",
      "max": 400000,
      "min": 0,
      "orientation": "horizontal",
      "style": "IPY_MODEL_3c77f2578ab1465989d81f911d5ce921",
      "value": 400000
     }
    },
    "7a5e7040da4846f6989936eebf1e8af6": {
     "model_module": "@jupyter-widgets/base",
     "model_module_version": "1.2.0",
     "model_name": "LayoutModel",
     "state": {
      "_model_module": "@jupyter-widgets/base",
      "_model_module_version": "1.2.0",
      "_model_name": "LayoutModel",
      "_view_count": null,
      "_view_module": "@jupyter-widgets/base",
      "_view_module_version": "1.2.0",
      "_view_name": "LayoutView",
      "align_content": null,
      "align_items": null,
      "align_self": null,
      "border": null,
      "bottom": null,
      "display": null,
      "flex": null,
      "flex_flow": null,
      "grid_area": null,
      "grid_auto_columns": null,
      "grid_auto_flow": null,
      "grid_auto_rows": null,
      "grid_column": null,
      "grid_gap": null,
      "grid_row": null,
      "grid_template_areas": null,
      "grid_template_columns": null,
      "grid_template_rows": null,
      "height": null,
      "justify_content": null,
      "justify_items": null,
      "left": null,
      "margin": null,
      "max_height": null,
      "max_width": null,
      "min_height": null,
      "min_width": null,
      "object_fit": null,
      "object_position": null,
      "order": null,
      "overflow": null,
      "overflow_x": null,
      "overflow_y": null,
      "padding": null,
      "right": null,
      "top": null,
      "visibility": null,
      "width": null
     }
    },
    "7cb88ea6707841aeb8274d4611692b7a": {
     "model_module": "@jupyter-widgets/controls",
     "model_module_version": "1.5.0",
     "model_name": "ProgressStyleModel",
     "state": {
      "_model_module": "@jupyter-widgets/controls",
      "_model_module_version": "1.5.0",
      "_model_name": "ProgressStyleModel",
      "_view_count": null,
      "_view_module": "@jupyter-widgets/base",
      "_view_module_version": "1.2.0",
      "_view_name": "StyleView",
      "bar_color": null,
      "description_width": ""
     }
    },
    "7cccf2954a5b4f79a5a28e6589225180": {
     "model_module": "@jupyter-widgets/controls",
     "model_module_version": "1.5.0",
     "model_name": "HBoxModel",
     "state": {
      "_dom_classes": [],
      "_model_module": "@jupyter-widgets/controls",
      "_model_module_version": "1.5.0",
      "_model_name": "HBoxModel",
      "_view_count": null,
      "_view_module": "@jupyter-widgets/controls",
      "_view_module_version": "1.5.0",
      "_view_name": "HBoxView",
      "box_style": "",
      "children": [
       "IPY_MODEL_8f4473815b5e489db99c6b8cbb5b844f",
       "IPY_MODEL_7878c39129cc4b099dfa3d8bce143ffa",
       "IPY_MODEL_0aa0e908250749bb93c3d935c414a06b"
      ],
      "layout": "IPY_MODEL_08baf6e0b9454375b3c1b4da07b9e814"
     }
    },
    "840c9b61aea64f01b0e213eb78e4b2b7": {
     "model_module": "@jupyter-widgets/base",
     "model_module_version": "1.2.0",
     "model_name": "LayoutModel",
     "state": {
      "_model_module": "@jupyter-widgets/base",
      "_model_module_version": "1.2.0",
      "_model_name": "LayoutModel",
      "_view_count": null,
      "_view_module": "@jupyter-widgets/base",
      "_view_module_version": "1.2.0",
      "_view_name": "LayoutView",
      "align_content": null,
      "align_items": null,
      "align_self": null,
      "border": null,
      "bottom": null,
      "display": null,
      "flex": null,
      "flex_flow": null,
      "grid_area": null,
      "grid_auto_columns": null,
      "grid_auto_flow": null,
      "grid_auto_rows": null,
      "grid_column": null,
      "grid_gap": null,
      "grid_row": null,
      "grid_template_areas": null,
      "grid_template_columns": null,
      "grid_template_rows": null,
      "height": null,
      "justify_content": null,
      "justify_items": null,
      "left": null,
      "margin": null,
      "max_height": null,
      "max_width": null,
      "min_height": null,
      "min_width": null,
      "object_fit": null,
      "object_position": null,
      "order": null,
      "overflow": null,
      "overflow_x": null,
      "overflow_y": null,
      "padding": null,
      "right": null,
      "top": null,
      "visibility": null,
      "width": null
     }
    },
    "85829958f8ec48d6bdc9f826c4eef1d7": {
     "model_module": "@jupyter-widgets/controls",
     "model_module_version": "1.5.0",
     "model_name": "ProgressStyleModel",
     "state": {
      "_model_module": "@jupyter-widgets/controls",
      "_model_module_version": "1.5.0",
      "_model_name": "ProgressStyleModel",
      "_view_count": null,
      "_view_module": "@jupyter-widgets/base",
      "_view_module_version": "1.2.0",
      "_view_name": "StyleView",
      "bar_color": null,
      "description_width": ""
     }
    },
    "876b12288a864a14a7ce948fbb5ccd71": {
     "model_module": "@jupyter-widgets/controls",
     "model_module_version": "1.5.0",
     "model_name": "HBoxModel",
     "state": {
      "_dom_classes": [],
      "_model_module": "@jupyter-widgets/controls",
      "_model_module_version": "1.5.0",
      "_model_name": "HBoxModel",
      "_view_count": null,
      "_view_module": "@jupyter-widgets/controls",
      "_view_module_version": "1.5.0",
      "_view_name": "HBoxView",
      "box_style": "",
      "children": [
       "IPY_MODEL_0e2b7fedb261425fa9db65907590afe5",
       "IPY_MODEL_f1050f4e7f75498e8fe2d9c6ebb74bc6",
       "IPY_MODEL_acbc7890efeb49cb8dd046f4ea3f5201"
      ],
      "layout": "IPY_MODEL_afbab47a923446718bcb7b0ae3643fdc"
     }
    },
    "87d88915498f44008af2ad5c2e442b20": {
     "model_module": "@jupyter-widgets/controls",
     "model_module_version": "1.5.0",
     "model_name": "ProgressStyleModel",
     "state": {
      "_model_module": "@jupyter-widgets/controls",
      "_model_module_version": "1.5.0",
      "_model_name": "ProgressStyleModel",
      "_view_count": null,
      "_view_module": "@jupyter-widgets/base",
      "_view_module_version": "1.2.0",
      "_view_name": "StyleView",
      "bar_color": null,
      "description_width": ""
     }
    },
    "8c0ffd5aed6048f6ae5917d5d729e942": {
     "model_module": "@jupyter-widgets/base",
     "model_module_version": "1.2.0",
     "model_name": "LayoutModel",
     "state": {
      "_model_module": "@jupyter-widgets/base",
      "_model_module_version": "1.2.0",
      "_model_name": "LayoutModel",
      "_view_count": null,
      "_view_module": "@jupyter-widgets/base",
      "_view_module_version": "1.2.0",
      "_view_name": "LayoutView",
      "align_content": null,
      "align_items": null,
      "align_self": null,
      "border": null,
      "bottom": null,
      "display": null,
      "flex": null,
      "flex_flow": null,
      "grid_area": null,
      "grid_auto_columns": null,
      "grid_auto_flow": null,
      "grid_auto_rows": null,
      "grid_column": null,
      "grid_gap": null,
      "grid_row": null,
      "grid_template_areas": null,
      "grid_template_columns": null,
      "grid_template_rows": null,
      "height": null,
      "justify_content": null,
      "justify_items": null,
      "left": null,
      "margin": null,
      "max_height": null,
      "max_width": null,
      "min_height": null,
      "min_width": null,
      "object_fit": null,
      "object_position": null,
      "order": null,
      "overflow": null,
      "overflow_x": null,
      "overflow_y": null,
      "padding": null,
      "right": null,
      "top": null,
      "visibility": null,
      "width": null
     }
    },
    "8d842bd5b6bf4fc48ca83e0c92fca98d": {
     "model_module": "@jupyter-widgets/controls",
     "model_module_version": "1.5.0",
     "model_name": "HBoxModel",
     "state": {
      "_dom_classes": [],
      "_model_module": "@jupyter-widgets/controls",
      "_model_module_version": "1.5.0",
      "_model_name": "HBoxModel",
      "_view_count": null,
      "_view_module": "@jupyter-widgets/controls",
      "_view_module_version": "1.5.0",
      "_view_name": "HBoxView",
      "box_style": "",
      "children": [
       "IPY_MODEL_672a6421e05443bdaa22b083da9704e9",
       "IPY_MODEL_bacac9b1964d4caf824bc03d7f519a1c",
       "IPY_MODEL_cf5f48b9de1b43739029960b7c18aadb"
      ],
      "layout": "IPY_MODEL_ea442e4c980c48f38d74fea68b1ca3d4"
     }
    },
    "8f4473815b5e489db99c6b8cbb5b844f": {
     "model_module": "@jupyter-widgets/controls",
     "model_module_version": "1.5.0",
     "model_name": "HTMLModel",
     "state": {
      "_dom_classes": [],
      "_model_module": "@jupyter-widgets/controls",
      "_model_module_version": "1.5.0",
      "_model_name": "HTMLModel",
      "_view_count": null,
      "_view_module": "@jupyter-widgets/controls",
      "_view_module_version": "1.5.0",
      "_view_name": "HTMLView",
      "description": "",
      "description_tooltip": null,
      "layout": "IPY_MODEL_9694ec5b58384d219910bc44fdaa0176",
      "placeholder": "​",
      "style": "IPY_MODEL_74134eec82624622b2917432f9324c0c",
      "value": "Generating test split: 100%"
     }
    },
    "91de251387be4b8ab28bca454af072ab": {
     "model_module": "@jupyter-widgets/controls",
     "model_module_version": "1.5.0",
     "model_name": "DescriptionStyleModel",
     "state": {
      "_model_module": "@jupyter-widgets/controls",
      "_model_module_version": "1.5.0",
      "_model_name": "DescriptionStyleModel",
      "_view_count": null,
      "_view_module": "@jupyter-widgets/base",
      "_view_module_version": "1.2.0",
      "_view_name": "StyleView",
      "description_width": ""
     }
    },
    "9694ec5b58384d219910bc44fdaa0176": {
     "model_module": "@jupyter-widgets/base",
     "model_module_version": "1.2.0",
     "model_name": "LayoutModel",
     "state": {
      "_model_module": "@jupyter-widgets/base",
      "_model_module_version": "1.2.0",
      "_model_name": "LayoutModel",
      "_view_count": null,
      "_view_module": "@jupyter-widgets/base",
      "_view_module_version": "1.2.0",
      "_view_name": "LayoutView",
      "align_content": null,
      "align_items": null,
      "align_self": null,
      "border": null,
      "bottom": null,
      "display": null,
      "flex": null,
      "flex_flow": null,
      "grid_area": null,
      "grid_auto_columns": null,
      "grid_auto_flow": null,
      "grid_auto_rows": null,
      "grid_column": null,
      "grid_gap": null,
      "grid_row": null,
      "grid_template_areas": null,
      "grid_template_columns": null,
      "grid_template_rows": null,
      "height": null,
      "justify_content": null,
      "justify_items": null,
      "left": null,
      "margin": null,
      "max_height": null,
      "max_width": null,
      "min_height": null,
      "min_width": null,
      "object_fit": null,
      "object_position": null,
      "order": null,
      "overflow": null,
      "overflow_x": null,
      "overflow_y": null,
      "padding": null,
      "right": null,
      "top": null,
      "visibility": null,
      "width": null
     }
    },
    "9a42b455f1c64b89b6dec2c11387c2f4": {
     "model_module": "@jupyter-widgets/controls",
     "model_module_version": "1.5.0",
     "model_name": "ProgressStyleModel",
     "state": {
      "_model_module": "@jupyter-widgets/controls",
      "_model_module_version": "1.5.0",
      "_model_name": "ProgressStyleModel",
      "_view_count": null,
      "_view_module": "@jupyter-widgets/base",
      "_view_module_version": "1.2.0",
      "_view_name": "StyleView",
      "bar_color": null,
      "description_width": ""
     }
    },
    "9b8f0450f04f4578af796545990d1544": {
     "model_module": "@jupyter-widgets/controls",
     "model_module_version": "1.5.0",
     "model_name": "FloatProgressModel",
     "state": {
      "_dom_classes": [],
      "_model_module": "@jupyter-widgets/controls",
      "_model_module_version": "1.5.0",
      "_model_name": "FloatProgressModel",
      "_view_count": null,
      "_view_module": "@jupyter-widgets/controls",
      "_view_module_version": "1.5.0",
      "_view_name": "ProgressView",
      "bar_style": "success",
      "description": "",
      "description_tooltip": null,
      "layout": "IPY_MODEL_1386868fe19a4932bdabac99c393b380",
      "max": 117422360,
      "min": 0,
      "orientation": "horizontal",
      "style": "IPY_MODEL_87d88915498f44008af2ad5c2e442b20",
      "value": 117422360
     }
    },
    "9d48ced947634f1a87038c0cc76c8a89": {
     "model_module": "@jupyter-widgets/base",
     "model_module_version": "1.2.0",
     "model_name": "LayoutModel",
     "state": {
      "_model_module": "@jupyter-widgets/base",
      "_model_module_version": "1.2.0",
      "_model_name": "LayoutModel",
      "_view_count": null,
      "_view_module": "@jupyter-widgets/base",
      "_view_module_version": "1.2.0",
      "_view_name": "LayoutView",
      "align_content": null,
      "align_items": null,
      "align_self": null,
      "border": null,
      "bottom": null,
      "display": null,
      "flex": null,
      "flex_flow": null,
      "grid_area": null,
      "grid_auto_columns": null,
      "grid_auto_flow": null,
      "grid_auto_rows": null,
      "grid_column": null,
      "grid_gap": null,
      "grid_row": null,
      "grid_template_areas": null,
      "grid_template_columns": null,
      "grid_template_rows": null,
      "height": null,
      "justify_content": null,
      "justify_items": null,
      "left": null,
      "margin": null,
      "max_height": null,
      "max_width": null,
      "min_height": null,
      "min_width": null,
      "object_fit": null,
      "object_position": null,
      "order": null,
      "overflow": null,
      "overflow_x": null,
      "overflow_y": null,
      "padding": null,
      "right": null,
      "top": null,
      "visibility": null,
      "width": null
     }
    },
    "a18f13d70c14408499ca753948f56a40": {
     "model_module": "@jupyter-widgets/controls",
     "model_module_version": "1.5.0",
     "model_name": "HTMLModel",
     "state": {
      "_dom_classes": [],
      "_model_module": "@jupyter-widgets/controls",
      "_model_module_version": "1.5.0",
      "_model_name": "HTMLModel",
      "_view_count": null,
      "_view_module": "@jupyter-widgets/controls",
      "_view_module_version": "1.5.0",
      "_view_name": "HTMLView",
      "description": "",
      "description_tooltip": null,
      "layout": "IPY_MODEL_59c02f9b11334f7196b2c6f1b914497f",
      "placeholder": "​",
      "style": "IPY_MODEL_91de251387be4b8ab28bca454af072ab",
      "value": "README.md: 100%"
     }
    },
    "a23d8fcfb09d4bee9969a93d81b2dc9b": {
     "model_module": "@jupyter-widgets/controls",
     "model_module_version": "1.5.0",
     "model_name": "HTMLModel",
     "state": {
      "_dom_classes": [],
      "_model_module": "@jupyter-widgets/controls",
      "_model_module_version": "1.5.0",
      "_model_name": "HTMLModel",
      "_view_count": null,
      "_view_module": "@jupyter-widgets/controls",
      "_view_module_version": "1.5.0",
      "_view_name": "HTMLView",
      "description": "",
      "description_tooltip": null,
      "layout": "IPY_MODEL_8c0ffd5aed6048f6ae5917d5d729e942",
      "placeholder": "​",
      "style": "IPY_MODEL_4ce8e3f912a542b092737e43d5c3b235",
      "value": "train-00001-of-00004.parquet: 100%"
     }
    },
    "a59d2ec37bc74ea4a545d17fa35f0159": {
     "model_module": "@jupyter-widgets/controls",
     "model_module_version": "1.5.0",
     "model_name": "DescriptionStyleModel",
     "state": {
      "_model_module": "@jupyter-widgets/controls",
      "_model_module_version": "1.5.0",
      "_model_name": "DescriptionStyleModel",
      "_view_count": null,
      "_view_module": "@jupyter-widgets/base",
      "_view_module_version": "1.2.0",
      "_view_name": "StyleView",
      "description_width": ""
     }
    },
    "a63786a2a37847aaa78495f268cc67f4": {
     "model_module": "@jupyter-widgets/controls",
     "model_module_version": "1.5.0",
     "model_name": "HTMLModel",
     "state": {
      "_dom_classes": [],
      "_model_module": "@jupyter-widgets/controls",
      "_model_module_version": "1.5.0",
      "_model_name": "HTMLModel",
      "_view_count": null,
      "_view_module": "@jupyter-widgets/controls",
      "_view_module_version": "1.5.0",
      "_view_name": "HTMLView",
      "description": "",
      "description_tooltip": null,
      "layout": "IPY_MODEL_1f9595e0b9b74855b7fd15f56c6a1387",
      "placeholder": "​",
      "style": "IPY_MODEL_4883ae50cb7c45278b62b04d5351abaf",
      "value": "train-00003-of-00004.parquet: 100%"
     }
    },
    "aa2b307e072d435e8c910a51cd695354": {
     "model_module": "@jupyter-widgets/controls",
     "model_module_version": "1.5.0",
     "model_name": "HBoxModel",
     "state": {
      "_dom_classes": [],
      "_model_module": "@jupyter-widgets/controls",
      "_model_module_version": "1.5.0",
      "_model_name": "HBoxModel",
      "_view_count": null,
      "_view_module": "@jupyter-widgets/controls",
      "_view_module_version": "1.5.0",
      "_view_name": "HBoxView",
      "box_style": "",
      "children": [
       "IPY_MODEL_a18f13d70c14408499ca753948f56a40",
       "IPY_MODEL_2ecf20b9f06048f387ed16d0b38f77ac",
       "IPY_MODEL_16200ee3e76042edb42b031ec238dbca"
      ],
      "layout": "IPY_MODEL_643a204bb82b4da0975fb8550ccd1ac3"
     }
    },
    "aca0c49e71ce41b6a99bda8aef882912": {
     "model_module": "@jupyter-widgets/base",
     "model_module_version": "1.2.0",
     "model_name": "LayoutModel",
     "state": {
      "_model_module": "@jupyter-widgets/base",
      "_model_module_version": "1.2.0",
      "_model_name": "LayoutModel",
      "_view_count": null,
      "_view_module": "@jupyter-widgets/base",
      "_view_module_version": "1.2.0",
      "_view_name": "LayoutView",
      "align_content": null,
      "align_items": null,
      "align_self": null,
      "border": null,
      "bottom": null,
      "display": null,
      "flex": null,
      "flex_flow": null,
      "grid_area": null,
      "grid_auto_columns": null,
      "grid_auto_flow": null,
      "grid_auto_rows": null,
      "grid_column": null,
      "grid_gap": null,
      "grid_row": null,
      "grid_template_areas": null,
      "grid_template_columns": null,
      "grid_template_rows": null,
      "height": null,
      "justify_content": null,
      "justify_items": null,
      "left": null,
      "margin": null,
      "max_height": null,
      "max_width": null,
      "min_height": null,
      "min_width": null,
      "object_fit": null,
      "object_position": null,
      "order": null,
      "overflow": null,
      "overflow_x": null,
      "overflow_y": null,
      "padding": null,
      "right": null,
      "top": null,
      "visibility": null,
      "width": null
     }
    },
    "acbc7890efeb49cb8dd046f4ea3f5201": {
     "model_module": "@jupyter-widgets/controls",
     "model_module_version": "1.5.0",
     "model_name": "HTMLModel",
     "state": {
      "_dom_classes": [],
      "_model_module": "@jupyter-widgets/controls",
      "_model_module_version": "1.5.0",
      "_model_name": "HTMLModel",
      "_view_count": null,
      "_view_module": "@jupyter-widgets/controls",
      "_view_module_version": "1.5.0",
      "_view_name": "HTMLView",
      "description": "",
      "description_tooltip": null,
      "layout": "IPY_MODEL_b39db12e28534ba3943aad23273b8afd",
      "placeholder": "​",
      "style": "IPY_MODEL_251bea7a0829475ba75b24f33177b5cf",
      "value": " 21.5M/21.5M [00:00&lt;00:00, 205MB/s]"
     }
    },
    "ad780ab50d1a4e44b153987a54108f57": {
     "model_module": "@jupyter-widgets/base",
     "model_module_version": "1.2.0",
     "model_name": "LayoutModel",
     "state": {
      "_model_module": "@jupyter-widgets/base",
      "_model_module_version": "1.2.0",
      "_model_name": "LayoutModel",
      "_view_count": null,
      "_view_module": "@jupyter-widgets/base",
      "_view_module_version": "1.2.0",
      "_view_name": "LayoutView",
      "align_content": null,
      "align_items": null,
      "align_self": null,
      "border": null,
      "bottom": null,
      "display": null,
      "flex": null,
      "flex_flow": null,
      "grid_area": null,
      "grid_auto_columns": null,
      "grid_auto_flow": null,
      "grid_auto_rows": null,
      "grid_column": null,
      "grid_gap": null,
      "grid_row": null,
      "grid_template_areas": null,
      "grid_template_columns": null,
      "grid_template_rows": null,
      "height": null,
      "justify_content": null,
      "justify_items": null,
      "left": null,
      "margin": null,
      "max_height": null,
      "max_width": null,
      "min_height": null,
      "min_width": null,
      "object_fit": null,
      "object_position": null,
      "order": null,
      "overflow": null,
      "overflow_x": null,
      "overflow_y": null,
      "padding": null,
      "right": null,
      "top": null,
      "visibility": null,
      "width": null
     }
    },
    "afbab47a923446718bcb7b0ae3643fdc": {
     "model_module": "@jupyter-widgets/base",
     "model_module_version": "1.2.0",
     "model_name": "LayoutModel",
     "state": {
      "_model_module": "@jupyter-widgets/base",
      "_model_module_version": "1.2.0",
      "_model_name": "LayoutModel",
      "_view_count": null,
      "_view_module": "@jupyter-widgets/base",
      "_view_module_version": "1.2.0",
      "_view_name": "LayoutView",
      "align_content": null,
      "align_items": null,
      "align_self": null,
      "border": null,
      "bottom": null,
      "display": null,
      "flex": null,
      "flex_flow": null,
      "grid_area": null,
      "grid_auto_columns": null,
      "grid_auto_flow": null,
      "grid_auto_rows": null,
      "grid_column": null,
      "grid_gap": null,
      "grid_row": null,
      "grid_template_areas": null,
      "grid_template_columns": null,
      "grid_template_rows": null,
      "height": null,
      "justify_content": null,
      "justify_items": null,
      "left": null,
      "margin": null,
      "max_height": null,
      "max_width": null,
      "min_height": null,
      "min_width": null,
      "object_fit": null,
      "object_position": null,
      "order": null,
      "overflow": null,
      "overflow_x": null,
      "overflow_y": null,
      "padding": null,
      "right": null,
      "top": null,
      "visibility": null,
      "width": null
     }
    },
    "b39db12e28534ba3943aad23273b8afd": {
     "model_module": "@jupyter-widgets/base",
     "model_module_version": "1.2.0",
     "model_name": "LayoutModel",
     "state": {
      "_model_module": "@jupyter-widgets/base",
      "_model_module_version": "1.2.0",
      "_model_name": "LayoutModel",
      "_view_count": null,
      "_view_module": "@jupyter-widgets/base",
      "_view_module_version": "1.2.0",
      "_view_name": "LayoutView",
      "align_content": null,
      "align_items": null,
      "align_self": null,
      "border": null,
      "bottom": null,
      "display": null,
      "flex": null,
      "flex_flow": null,
      "grid_area": null,
      "grid_auto_columns": null,
      "grid_auto_flow": null,
      "grid_auto_rows": null,
      "grid_column": null,
      "grid_gap": null,
      "grid_row": null,
      "grid_template_areas": null,
      "grid_template_columns": null,
      "grid_template_rows": null,
      "height": null,
      "justify_content": null,
      "justify_items": null,
      "left": null,
      "margin": null,
      "max_height": null,
      "max_width": null,
      "min_height": null,
      "min_width": null,
      "object_fit": null,
      "object_position": null,
      "order": null,
      "overflow": null,
      "overflow_x": null,
      "overflow_y": null,
      "padding": null,
      "right": null,
      "top": null,
      "visibility": null,
      "width": null
     }
    },
    "b4c9857a2a6b48318875e302eb79aa04": {
     "model_module": "@jupyter-widgets/controls",
     "model_module_version": "1.5.0",
     "model_name": "DescriptionStyleModel",
     "state": {
      "_model_module": "@jupyter-widgets/controls",
      "_model_module_version": "1.5.0",
      "_model_name": "DescriptionStyleModel",
      "_view_count": null,
      "_view_module": "@jupyter-widgets/base",
      "_view_module_version": "1.2.0",
      "_view_name": "StyleView",
      "description_width": ""
     }
    },
    "b4e6deb854fc430cb60a41284af0a14b": {
     "model_module": "@jupyter-widgets/controls",
     "model_module_version": "1.5.0",
     "model_name": "FloatProgressModel",
     "state": {
      "_dom_classes": [],
      "_model_module": "@jupyter-widgets/controls",
      "_model_module_version": "1.5.0",
      "_model_name": "FloatProgressModel",
      "_view_count": null,
      "_view_module": "@jupyter-widgets/controls",
      "_view_module_version": "1.5.0",
      "_view_name": "ProgressView",
      "bar_style": "success",
      "description": "",
      "description_tooltip": null,
      "layout": "IPY_MODEL_ad780ab50d1a4e44b153987a54108f57",
      "max": 3600000,
      "min": 0,
      "orientation": "horizontal",
      "style": "IPY_MODEL_85829958f8ec48d6bdc9f826c4eef1d7",
      "value": 3600000
     }
    },
    "b6bc3feb76724762973f26c2db795bbd": {
     "model_module": "@jupyter-widgets/controls",
     "model_module_version": "1.5.0",
     "model_name": "HTMLModel",
     "state": {
      "_dom_classes": [],
      "_model_module": "@jupyter-widgets/controls",
      "_model_module_version": "1.5.0",
      "_model_name": "HTMLModel",
      "_view_count": null,
      "_view_module": "@jupyter-widgets/controls",
      "_view_module_version": "1.5.0",
      "_view_name": "HTMLView",
      "description": "",
      "description_tooltip": null,
      "layout": "IPY_MODEL_77a338e2c9bc41489f845b4bfa0a7019",
      "placeholder": "​",
      "style": "IPY_MODEL_c0e9d03dc09d4b11bb2f03e3f15a264f",
      "value": " 480M/480M [00:02&lt;00:00, 209MB/s]"
     }
    },
    "b744735f167744a28a042d924dcad73f": {
     "model_module": "@jupyter-widgets/controls",
     "model_module_version": "1.5.0",
     "model_name": "DescriptionStyleModel",
     "state": {
      "_model_module": "@jupyter-widgets/controls",
      "_model_module_version": "1.5.0",
      "_model_name": "DescriptionStyleModel",
      "_view_count": null,
      "_view_module": "@jupyter-widgets/base",
      "_view_module_version": "1.2.0",
      "_view_name": "StyleView",
      "description_width": ""
     }
    },
    "b8d86da5ba85410f91038672a5ba9815": {
     "model_module": "@jupyter-widgets/controls",
     "model_module_version": "1.5.0",
     "model_name": "HTMLModel",
     "state": {
      "_dom_classes": [],
      "_model_module": "@jupyter-widgets/controls",
      "_model_module_version": "1.5.0",
      "_model_name": "HTMLModel",
      "_view_count": null,
      "_view_module": "@jupyter-widgets/controls",
      "_view_module_version": "1.5.0",
      "_view_name": "HTMLView",
      "description": "",
      "description_tooltip": null,
      "layout": "IPY_MODEL_9d48ced947634f1a87038c0cc76c8a89",
      "placeholder": "​",
      "style": "IPY_MODEL_25a49f8615344865a29e9f8a7fd8035f",
      "value": " 254M/254M [00:00&lt;00:00, 299MB/s]"
     }
    },
    "bacac9b1964d4caf824bc03d7f519a1c": {
     "model_module": "@jupyter-widgets/controls",
     "model_module_version": "1.5.0",
     "model_name": "FloatProgressModel",
     "state": {
      "_dom_classes": [],
      "_model_module": "@jupyter-widgets/controls",
      "_model_module_version": "1.5.0",
      "_model_name": "FloatProgressModel",
      "_view_count": null,
      "_view_module": "@jupyter-widgets/controls",
      "_view_module_version": "1.5.0",
      "_view_name": "ProgressView",
      "bar_style": "success",
      "description": "",
      "description_tooltip": null,
      "layout": "IPY_MODEL_564b0435aba847bf8dc03f86e08216ba",
      "max": 259761770,
      "min": 0,
      "orientation": "horizontal",
      "style": "IPY_MODEL_2a432e470a32418d8d3d223751ddd489",
      "value": 259761770
     }
    },
    "bf0f0754977e49f89eb5008751dc1089": {
     "model_module": "@jupyter-widgets/base",
     "model_module_version": "1.2.0",
     "model_name": "LayoutModel",
     "state": {
      "_model_module": "@jupyter-widgets/base",
      "_model_module_version": "1.2.0",
      "_model_name": "LayoutModel",
      "_view_count": null,
      "_view_module": "@jupyter-widgets/base",
      "_view_module_version": "1.2.0",
      "_view_name": "LayoutView",
      "align_content": null,
      "align_items": null,
      "align_self": null,
      "border": null,
      "bottom": null,
      "display": null,
      "flex": null,
      "flex_flow": null,
      "grid_area": null,
      "grid_auto_columns": null,
      "grid_auto_flow": null,
      "grid_auto_rows": null,
      "grid_column": null,
      "grid_gap": null,
      "grid_row": null,
      "grid_template_areas": null,
      "grid_template_columns": null,
      "grid_template_rows": null,
      "height": null,
      "justify_content": null,
      "justify_items": null,
      "left": null,
      "margin": null,
      "max_height": null,
      "max_width": null,
      "min_height": null,
      "min_width": null,
      "object_fit": null,
      "object_position": null,
      "order": null,
      "overflow": null,
      "overflow_x": null,
      "overflow_y": null,
      "padding": null,
      "right": null,
      "top": null,
      "visibility": null,
      "width": null
     }
    },
    "c0e9d03dc09d4b11bb2f03e3f15a264f": {
     "model_module": "@jupyter-widgets/controls",
     "model_module_version": "1.5.0",
     "model_name": "DescriptionStyleModel",
     "state": {
      "_model_module": "@jupyter-widgets/controls",
      "_model_module_version": "1.5.0",
      "_model_name": "DescriptionStyleModel",
      "_view_count": null,
      "_view_module": "@jupyter-widgets/base",
      "_view_module_version": "1.2.0",
      "_view_name": "StyleView",
      "description_width": ""
     }
    },
    "c25503a9fb104b9e900e68c3ef61e454": {
     "model_module": "@jupyter-widgets/base",
     "model_module_version": "1.2.0",
     "model_name": "LayoutModel",
     "state": {
      "_model_module": "@jupyter-widgets/base",
      "_model_module_version": "1.2.0",
      "_model_name": "LayoutModel",
      "_view_count": null,
      "_view_module": "@jupyter-widgets/base",
      "_view_module_version": "1.2.0",
      "_view_name": "LayoutView",
      "align_content": null,
      "align_items": null,
      "align_self": null,
      "border": null,
      "bottom": null,
      "display": null,
      "flex": null,
      "flex_flow": null,
      "grid_area": null,
      "grid_auto_columns": null,
      "grid_auto_flow": null,
      "grid_auto_rows": null,
      "grid_column": null,
      "grid_gap": null,
      "grid_row": null,
      "grid_template_areas": null,
      "grid_template_columns": null,
      "grid_template_rows": null,
      "height": null,
      "justify_content": null,
      "justify_items": null,
      "left": null,
      "margin": null,
      "max_height": null,
      "max_width": null,
      "min_height": null,
      "min_width": null,
      "object_fit": null,
      "object_position": null,
      "order": null,
      "overflow": null,
      "overflow_x": null,
      "overflow_y": null,
      "padding": null,
      "right": null,
      "top": null,
      "visibility": null,
      "width": null
     }
    },
    "c4d3487c9363420bb1afe13e4ffe4200": {
     "model_module": "@jupyter-widgets/controls",
     "model_module_version": "1.5.0",
     "model_name": "DescriptionStyleModel",
     "state": {
      "_model_module": "@jupyter-widgets/controls",
      "_model_module_version": "1.5.0",
      "_model_name": "DescriptionStyleModel",
      "_view_count": null,
      "_view_module": "@jupyter-widgets/base",
      "_view_module_version": "1.2.0",
      "_view_name": "StyleView",
      "description_width": ""
     }
    },
    "c55d392b266742189d46592e133c020e": {
     "model_module": "@jupyter-widgets/controls",
     "model_module_version": "1.5.0",
     "model_name": "HBoxModel",
     "state": {
      "_dom_classes": [],
      "_model_module": "@jupyter-widgets/controls",
      "_model_module_version": "1.5.0",
      "_model_name": "HBoxModel",
      "_view_count": null,
      "_view_module": "@jupyter-widgets/controls",
      "_view_module_version": "1.5.0",
      "_view_name": "HBoxView",
      "box_style": "",
      "children": [
       "IPY_MODEL_a63786a2a37847aaa78495f268cc67f4",
       "IPY_MODEL_3fb7855449e242c49605542be9b69f69",
       "IPY_MODEL_b8d86da5ba85410f91038672a5ba9815"
      ],
      "layout": "IPY_MODEL_840c9b61aea64f01b0e213eb78e4b2b7"
     }
    },
    "cf5f48b9de1b43739029960b7c18aadb": {
     "model_module": "@jupyter-widgets/controls",
     "model_module_version": "1.5.0",
     "model_name": "HTMLModel",
     "state": {
      "_dom_classes": [],
      "_model_module": "@jupyter-widgets/controls",
      "_model_module_version": "1.5.0",
      "_model_name": "HTMLModel",
      "_view_count": null,
      "_view_module": "@jupyter-widgets/controls",
      "_view_module_version": "1.5.0",
      "_view_name": "HTMLView",
      "description": "",
      "description_tooltip": null,
      "layout": "IPY_MODEL_7a5e7040da4846f6989936eebf1e8af6",
      "placeholder": "​",
      "style": "IPY_MODEL_22bbec871dda4b4883e18b89c1ade997",
      "value": " 260M/260M [00:01&lt;00:00, 274MB/s]"
     }
    },
    "d78cf71eac07466e8755ffb59e722d24": {
     "model_module": "@jupyter-widgets/controls",
     "model_module_version": "1.5.0",
     "model_name": "DescriptionStyleModel",
     "state": {
      "_model_module": "@jupyter-widgets/controls",
      "_model_module_version": "1.5.0",
      "_model_name": "DescriptionStyleModel",
      "_view_count": null,
      "_view_module": "@jupyter-widgets/base",
      "_view_module_version": "1.2.0",
      "_view_name": "StyleView",
      "description_width": ""
     }
    },
    "d94369c497c7417b88db185aa03deb54": {
     "model_module": "@jupyter-widgets/controls",
     "model_module_version": "1.5.0",
     "model_name": "DescriptionStyleModel",
     "state": {
      "_model_module": "@jupyter-widgets/controls",
      "_model_module_version": "1.5.0",
      "_model_name": "DescriptionStyleModel",
      "_view_count": null,
      "_view_module": "@jupyter-widgets/base",
      "_view_module_version": "1.2.0",
      "_view_name": "StyleView",
      "description_width": ""
     }
    },
    "db8b6adc72ea4fcbb08563118e37ffbc": {
     "model_module": "@jupyter-widgets/base",
     "model_module_version": "1.2.0",
     "model_name": "LayoutModel",
     "state": {
      "_model_module": "@jupyter-widgets/base",
      "_model_module_version": "1.2.0",
      "_model_name": "LayoutModel",
      "_view_count": null,
      "_view_module": "@jupyter-widgets/base",
      "_view_module_version": "1.2.0",
      "_view_name": "LayoutView",
      "align_content": null,
      "align_items": null,
      "align_self": null,
      "border": null,
      "bottom": null,
      "display": null,
      "flex": null,
      "flex_flow": null,
      "grid_area": null,
      "grid_auto_columns": null,
      "grid_auto_flow": null,
      "grid_auto_rows": null,
      "grid_column": null,
      "grid_gap": null,
      "grid_row": null,
      "grid_template_areas": null,
      "grid_template_columns": null,
      "grid_template_rows": null,
      "height": null,
      "justify_content": null,
      "justify_items": null,
      "left": null,
      "margin": null,
      "max_height": null,
      "max_width": null,
      "min_height": null,
      "min_width": null,
      "object_fit": null,
      "object_position": null,
      "order": null,
      "overflow": null,
      "overflow_x": null,
      "overflow_y": null,
      "padding": null,
      "right": null,
      "top": null,
      "visibility": null,
      "width": null
     }
    },
    "de0fff26d2ff43ffb2d38e8285bc8294": {
     "model_module": "@jupyter-widgets/controls",
     "model_module_version": "1.5.0",
     "model_name": "HTMLModel",
     "state": {
      "_dom_classes": [],
      "_model_module": "@jupyter-widgets/controls",
      "_model_module_version": "1.5.0",
      "_model_name": "HTMLModel",
      "_view_count": null,
      "_view_module": "@jupyter-widgets/controls",
      "_view_module_version": "1.5.0",
      "_view_name": "HTMLView",
      "description": "",
      "description_tooltip": null,
      "layout": "IPY_MODEL_aca0c49e71ce41b6a99bda8aef882912",
      "placeholder": "​",
      "style": "IPY_MODEL_0dcf51cd7f99496bb963f3cde4b40554",
      "value": " 3600000/3600000 [00:06&lt;00:00, 594977.69 examples/s]"
     }
    },
    "e753f9c467594d459d19ea69c7bbd2f5": {
     "model_module": "@jupyter-widgets/base",
     "model_module_version": "1.2.0",
     "model_name": "LayoutModel",
     "state": {
      "_model_module": "@jupyter-widgets/base",
      "_model_module_version": "1.2.0",
      "_model_name": "LayoutModel",
      "_view_count": null,
      "_view_module": "@jupyter-widgets/base",
      "_view_module_version": "1.2.0",
      "_view_name": "LayoutView",
      "align_content": null,
      "align_items": null,
      "align_self": null,
      "border": null,
      "bottom": null,
      "display": null,
      "flex": null,
      "flex_flow": null,
      "grid_area": null,
      "grid_auto_columns": null,
      "grid_auto_flow": null,
      "grid_auto_rows": null,
      "grid_column": null,
      "grid_gap": null,
      "grid_row": null,
      "grid_template_areas": null,
      "grid_template_columns": null,
      "grid_template_rows": null,
      "height": null,
      "justify_content": null,
      "justify_items": null,
      "left": null,
      "margin": null,
      "max_height": null,
      "max_width": null,
      "min_height": null,
      "min_width": null,
      "object_fit": null,
      "object_position": null,
      "order": null,
      "overflow": null,
      "overflow_x": null,
      "overflow_y": null,
      "padding": null,
      "right": null,
      "top": null,
      "visibility": null,
      "width": null
     }
    },
    "e7e0b1c55b374660a2796105d6aec9a1": {
     "model_module": "@jupyter-widgets/base",
     "model_module_version": "1.2.0",
     "model_name": "LayoutModel",
     "state": {
      "_model_module": "@jupyter-widgets/base",
      "_model_module_version": "1.2.0",
      "_model_name": "LayoutModel",
      "_view_count": null,
      "_view_module": "@jupyter-widgets/base",
      "_view_module_version": "1.2.0",
      "_view_name": "LayoutView",
      "align_content": null,
      "align_items": null,
      "align_self": null,
      "border": null,
      "bottom": null,
      "display": null,
      "flex": null,
      "flex_flow": null,
      "grid_area": null,
      "grid_auto_columns": null,
      "grid_auto_flow": null,
      "grid_auto_rows": null,
      "grid_column": null,
      "grid_gap": null,
      "grid_row": null,
      "grid_template_areas": null,
      "grid_template_columns": null,
      "grid_template_rows": null,
      "height": null,
      "justify_content": null,
      "justify_items": null,
      "left": null,
      "margin": null,
      "max_height": null,
      "max_width": null,
      "min_height": null,
      "min_width": null,
      "object_fit": null,
      "object_position": null,
      "order": null,
      "overflow": null,
      "overflow_x": null,
      "overflow_y": null,
      "padding": null,
      "right": null,
      "top": null,
      "visibility": null,
      "width": null
     }
    },
    "e805cf63ebc347dc8228e30f745da284": {
     "model_module": "@jupyter-widgets/controls",
     "model_module_version": "1.5.0",
     "model_name": "ProgressStyleModel",
     "state": {
      "_model_module": "@jupyter-widgets/controls",
      "_model_module_version": "1.5.0",
      "_model_name": "ProgressStyleModel",
      "_view_count": null,
      "_view_module": "@jupyter-widgets/base",
      "_view_module_version": "1.2.0",
      "_view_name": "StyleView",
      "bar_color": null,
      "description_width": ""
     }
    },
    "ea442e4c980c48f38d74fea68b1ca3d4": {
     "model_module": "@jupyter-widgets/base",
     "model_module_version": "1.2.0",
     "model_name": "LayoutModel",
     "state": {
      "_model_module": "@jupyter-widgets/base",
      "_model_module_version": "1.2.0",
      "_model_name": "LayoutModel",
      "_view_count": null,
      "_view_module": "@jupyter-widgets/base",
      "_view_module_version": "1.2.0",
      "_view_name": "LayoutView",
      "align_content": null,
      "align_items": null,
      "align_self": null,
      "border": null,
      "bottom": null,
      "display": null,
      "flex": null,
      "flex_flow": null,
      "grid_area": null,
      "grid_auto_columns": null,
      "grid_auto_flow": null,
      "grid_auto_rows": null,
      "grid_column": null,
      "grid_gap": null,
      "grid_row": null,
      "grid_template_areas": null,
      "grid_template_columns": null,
      "grid_template_rows": null,
      "height": null,
      "justify_content": null,
      "justify_items": null,
      "left": null,
      "margin": null,
      "max_height": null,
      "max_width": null,
      "min_height": null,
      "min_width": null,
      "object_fit": null,
      "object_position": null,
      "order": null,
      "overflow": null,
      "overflow_x": null,
      "overflow_y": null,
      "padding": null,
      "right": null,
      "top": null,
      "visibility": null,
      "width": null
     }
    },
    "ed3c1db902d24315bedacf0ef19905b2": {
     "model_module": "@jupyter-widgets/base",
     "model_module_version": "1.2.0",
     "model_name": "LayoutModel",
     "state": {
      "_model_module": "@jupyter-widgets/base",
      "_model_module_version": "1.2.0",
      "_model_name": "LayoutModel",
      "_view_count": null,
      "_view_module": "@jupyter-widgets/base",
      "_view_module_version": "1.2.0",
      "_view_name": "LayoutView",
      "align_content": null,
      "align_items": null,
      "align_self": null,
      "border": null,
      "bottom": null,
      "display": null,
      "flex": null,
      "flex_flow": null,
      "grid_area": null,
      "grid_auto_columns": null,
      "grid_auto_flow": null,
      "grid_auto_rows": null,
      "grid_column": null,
      "grid_gap": null,
      "grid_row": null,
      "grid_template_areas": null,
      "grid_template_columns": null,
      "grid_template_rows": null,
      "height": null,
      "justify_content": null,
      "justify_items": null,
      "left": null,
      "margin": null,
      "max_height": null,
      "max_width": null,
      "min_height": null,
      "min_width": null,
      "object_fit": null,
      "object_position": null,
      "order": null,
      "overflow": null,
      "overflow_x": null,
      "overflow_y": null,
      "padding": null,
      "right": null,
      "top": null,
      "visibility": null,
      "width": null
     }
    },
    "f1050f4e7f75498e8fe2d9c6ebb74bc6": {
     "model_module": "@jupyter-widgets/controls",
     "model_module_version": "1.5.0",
     "model_name": "FloatProgressModel",
     "state": {
      "_dom_classes": [],
      "_model_module": "@jupyter-widgets/controls",
      "_model_module_version": "1.5.0",
      "_model_name": "FloatProgressModel",
      "_view_count": null,
      "_view_module": "@jupyter-widgets/controls",
      "_view_module_version": "1.5.0",
      "_view_name": "ProgressView",
      "bar_style": "success",
      "description": "",
      "description_tooltip": null,
      "layout": "IPY_MODEL_149b924c27eb415dbdd235b4e21a9793",
      "max": 21494765,
      "min": 0,
      "orientation": "horizontal",
      "style": "IPY_MODEL_52cbb40c9d8e4faa8348f4cea4e3a15d",
      "value": 21494765
     }
    },
    "f1d89733c7ae447a817f0a89e0a0df35": {
     "model_module": "@jupyter-widgets/controls",
     "model_module_version": "1.5.0",
     "model_name": "HBoxModel",
     "state": {
      "_dom_classes": [],
      "_model_module": "@jupyter-widgets/controls",
      "_model_module_version": "1.5.0",
      "_model_name": "HBoxModel",
      "_view_count": null,
      "_view_module": "@jupyter-widgets/controls",
      "_view_module_version": "1.5.0",
      "_view_name": "HBoxView",
      "box_style": "",
      "children": [
       "IPY_MODEL_6a42a44506364620bb8b383c940f2459",
       "IPY_MODEL_5a4b304f011042f0b75d1d1861290b04",
       "IPY_MODEL_b6bc3feb76724762973f26c2db795bbd"
      ],
      "layout": "IPY_MODEL_5925f9e65b07416fbe5085af5a5e3f63"
     }
    },
    "f65a84702b3c40e59b71e40a5e251a4e": {
     "model_module": "@jupyter-widgets/controls",
     "model_module_version": "1.5.0",
     "model_name": "DescriptionStyleModel",
     "state": {
      "_model_module": "@jupyter-widgets/controls",
      "_model_module_version": "1.5.0",
      "_model_name": "DescriptionStyleModel",
      "_view_count": null,
      "_view_module": "@jupyter-widgets/base",
      "_view_module_version": "1.2.0",
      "_view_name": "StyleView",
      "description_width": ""
     }
    },
    "fdbb241b88af45a1bda1e573bd5009c6": {
     "model_module": "@jupyter-widgets/controls",
     "model_module_version": "1.5.0",
     "model_name": "FloatProgressModel",
     "state": {
      "_dom_classes": [],
      "_model_module": "@jupyter-widgets/controls",
      "_model_module_version": "1.5.0",
      "_model_name": "FloatProgressModel",
      "_view_count": null,
      "_view_module": "@jupyter-widgets/controls",
      "_view_module_version": "1.5.0",
      "_view_name": "ProgressView",
      "bar_style": "success",
      "description": "",
      "description_tooltip": null,
      "layout": "IPY_MODEL_5cfc8f231ecc42e5bde4781d6233339c",
      "max": 255471883,
      "min": 0,
      "orientation": "horizontal",
      "style": "IPY_MODEL_3bee3da2ffda467287efa6909b3117ac",
      "value": 255471883
     }
    },
    "ff8f2d77476c4f1ea96c7f308f87f17e": {
     "model_module": "@jupyter-widgets/controls",
     "model_module_version": "1.5.0",
     "model_name": "HTMLModel",
     "state": {
      "_dom_classes": [],
      "_model_module": "@jupyter-widgets/controls",
      "_model_module_version": "1.5.0",
      "_model_name": "HTMLModel",
      "_view_count": null,
      "_view_module": "@jupyter-widgets/controls",
      "_view_module_version": "1.5.0",
      "_view_name": "HTMLView",
      "description": "",
      "description_tooltip": null,
      "layout": "IPY_MODEL_5204db9485ac4dcf8c165c9e50953926",
      "placeholder": "​",
      "style": "IPY_MODEL_d94369c497c7417b88db185aa03deb54",
      "value": " 255M/255M [00:00&lt;00:00, 306MB/s]"
     }
    }
   }
  }
 },
 "nbformat": 4,
 "nbformat_minor": 4
}
